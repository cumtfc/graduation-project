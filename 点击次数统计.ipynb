{
 "cells": [
  {
   "cell_type": "code",
   "execution_count": 1,
   "metadata": {},
   "outputs": [
    {
     "ename": "FileNotFoundError",
     "evalue": "File b'round1_ijcai_18_train_20180301.txt' does not exist",
     "output_type": "error",
     "traceback": [
      "\u001b[1;31m---------------------------------------------------------------------------\u001b[0m",
      "\u001b[1;31mFileNotFoundError\u001b[0m                         Traceback (most recent call last)",
      "\u001b[1;32m<ipython-input-1-1428c6183467>\u001b[0m in \u001b[0;36m<module>\u001b[1;34m()\u001b[0m\n\u001b[0;32m      4\u001b[0m \u001b[0mstart\u001b[0m \u001b[1;33m=\u001b[0m \u001b[0mtime\u001b[0m\u001b[1;33m.\u001b[0m\u001b[0mtime\u001b[0m\u001b[1;33m(\u001b[0m\u001b[1;33m)\u001b[0m\u001b[1;33m\u001b[0m\u001b[0m\n\u001b[0;32m      5\u001b[0m \u001b[1;31m##读取并合并数据\u001b[0m\u001b[1;33m\u001b[0m\u001b[1;33m\u001b[0m\u001b[0m\n\u001b[1;32m----> 6\u001b[1;33m \u001b[0mdata_train\u001b[0m \u001b[1;33m=\u001b[0m \u001b[0mpd\u001b[0m\u001b[1;33m.\u001b[0m\u001b[0mread_csv\u001b[0m\u001b[1;33m(\u001b[0m\u001b[1;34m\"round1_ijcai_18_train_20180301.txt\"\u001b[0m\u001b[1;33m,\u001b[0m\u001b[0msep\u001b[0m\u001b[1;33m=\u001b[0m\u001b[1;34m\" \"\u001b[0m\u001b[1;33m)\u001b[0m\u001b[1;33m\u001b[0m\u001b[0m\n\u001b[0m\u001b[0;32m      7\u001b[0m \u001b[0mdata_train\u001b[0m \u001b[1;33m=\u001b[0m \u001b[0mdata_train\u001b[0m\u001b[1;33m.\u001b[0m\u001b[0mdrop_duplicates\u001b[0m\u001b[1;33m(\u001b[0m\u001b[1;33m)\u001b[0m\u001b[1;33m\u001b[0m\u001b[0m\n\u001b[0;32m      8\u001b[0m \u001b[0mdata_test\u001b[0m \u001b[1;33m=\u001b[0m \u001b[0mpd\u001b[0m\u001b[1;33m.\u001b[0m\u001b[0mread_csv\u001b[0m\u001b[1;33m(\u001b[0m\u001b[1;34m\"round1_ijcai_18_test_a_20180301.txt\"\u001b[0m\u001b[1;33m,\u001b[0m\u001b[0msep\u001b[0m\u001b[1;33m=\u001b[0m\u001b[1;34m\" \"\u001b[0m\u001b[1;33m)\u001b[0m\u001b[1;33m\u001b[0m\u001b[0m\n",
      "\u001b[1;32m~\\Anaconda3\\lib\\site-packages\\pandas\\io\\parsers.py\u001b[0m in \u001b[0;36mparser_f\u001b[1;34m(filepath_or_buffer, sep, delimiter, header, names, index_col, usecols, squeeze, prefix, mangle_dupe_cols, dtype, engine, converters, true_values, false_values, skipinitialspace, skiprows, nrows, na_values, keep_default_na, na_filter, verbose, skip_blank_lines, parse_dates, infer_datetime_format, keep_date_col, date_parser, dayfirst, iterator, chunksize, compression, thousands, decimal, lineterminator, quotechar, quoting, escapechar, comment, encoding, dialect, tupleize_cols, error_bad_lines, warn_bad_lines, skipfooter, doublequote, delim_whitespace, low_memory, memory_map, float_precision)\u001b[0m\n\u001b[0;32m    676\u001b[0m                     skip_blank_lines=skip_blank_lines)\n\u001b[0;32m    677\u001b[0m \u001b[1;33m\u001b[0m\u001b[0m\n\u001b[1;32m--> 678\u001b[1;33m         \u001b[1;32mreturn\u001b[0m \u001b[0m_read\u001b[0m\u001b[1;33m(\u001b[0m\u001b[0mfilepath_or_buffer\u001b[0m\u001b[1;33m,\u001b[0m \u001b[0mkwds\u001b[0m\u001b[1;33m)\u001b[0m\u001b[1;33m\u001b[0m\u001b[0m\n\u001b[0m\u001b[0;32m    679\u001b[0m \u001b[1;33m\u001b[0m\u001b[0m\n\u001b[0;32m    680\u001b[0m     \u001b[0mparser_f\u001b[0m\u001b[1;33m.\u001b[0m\u001b[0m__name__\u001b[0m \u001b[1;33m=\u001b[0m \u001b[0mname\u001b[0m\u001b[1;33m\u001b[0m\u001b[0m\n",
      "\u001b[1;32m~\\Anaconda3\\lib\\site-packages\\pandas\\io\\parsers.py\u001b[0m in \u001b[0;36m_read\u001b[1;34m(filepath_or_buffer, kwds)\u001b[0m\n\u001b[0;32m    438\u001b[0m \u001b[1;33m\u001b[0m\u001b[0m\n\u001b[0;32m    439\u001b[0m     \u001b[1;31m# Create the parser.\u001b[0m\u001b[1;33m\u001b[0m\u001b[1;33m\u001b[0m\u001b[0m\n\u001b[1;32m--> 440\u001b[1;33m     \u001b[0mparser\u001b[0m \u001b[1;33m=\u001b[0m \u001b[0mTextFileReader\u001b[0m\u001b[1;33m(\u001b[0m\u001b[0mfilepath_or_buffer\u001b[0m\u001b[1;33m,\u001b[0m \u001b[1;33m**\u001b[0m\u001b[0mkwds\u001b[0m\u001b[1;33m)\u001b[0m\u001b[1;33m\u001b[0m\u001b[0m\n\u001b[0m\u001b[0;32m    441\u001b[0m \u001b[1;33m\u001b[0m\u001b[0m\n\u001b[0;32m    442\u001b[0m     \u001b[1;32mif\u001b[0m \u001b[0mchunksize\u001b[0m \u001b[1;32mor\u001b[0m \u001b[0miterator\u001b[0m\u001b[1;33m:\u001b[0m\u001b[1;33m\u001b[0m\u001b[0m\n",
      "\u001b[1;32m~\\Anaconda3\\lib\\site-packages\\pandas\\io\\parsers.py\u001b[0m in \u001b[0;36m__init__\u001b[1;34m(self, f, engine, **kwds)\u001b[0m\n\u001b[0;32m    785\u001b[0m             \u001b[0mself\u001b[0m\u001b[1;33m.\u001b[0m\u001b[0moptions\u001b[0m\u001b[1;33m[\u001b[0m\u001b[1;34m'has_index_names'\u001b[0m\u001b[1;33m]\u001b[0m \u001b[1;33m=\u001b[0m \u001b[0mkwds\u001b[0m\u001b[1;33m[\u001b[0m\u001b[1;34m'has_index_names'\u001b[0m\u001b[1;33m]\u001b[0m\u001b[1;33m\u001b[0m\u001b[0m\n\u001b[0;32m    786\u001b[0m \u001b[1;33m\u001b[0m\u001b[0m\n\u001b[1;32m--> 787\u001b[1;33m         \u001b[0mself\u001b[0m\u001b[1;33m.\u001b[0m\u001b[0m_make_engine\u001b[0m\u001b[1;33m(\u001b[0m\u001b[0mself\u001b[0m\u001b[1;33m.\u001b[0m\u001b[0mengine\u001b[0m\u001b[1;33m)\u001b[0m\u001b[1;33m\u001b[0m\u001b[0m\n\u001b[0m\u001b[0;32m    788\u001b[0m \u001b[1;33m\u001b[0m\u001b[0m\n\u001b[0;32m    789\u001b[0m     \u001b[1;32mdef\u001b[0m \u001b[0mclose\u001b[0m\u001b[1;33m(\u001b[0m\u001b[0mself\u001b[0m\u001b[1;33m)\u001b[0m\u001b[1;33m:\u001b[0m\u001b[1;33m\u001b[0m\u001b[0m\n",
      "\u001b[1;32m~\\Anaconda3\\lib\\site-packages\\pandas\\io\\parsers.py\u001b[0m in \u001b[0;36m_make_engine\u001b[1;34m(self, engine)\u001b[0m\n\u001b[0;32m   1012\u001b[0m     \u001b[1;32mdef\u001b[0m \u001b[0m_make_engine\u001b[0m\u001b[1;33m(\u001b[0m\u001b[0mself\u001b[0m\u001b[1;33m,\u001b[0m \u001b[0mengine\u001b[0m\u001b[1;33m=\u001b[0m\u001b[1;34m'c'\u001b[0m\u001b[1;33m)\u001b[0m\u001b[1;33m:\u001b[0m\u001b[1;33m\u001b[0m\u001b[0m\n\u001b[0;32m   1013\u001b[0m         \u001b[1;32mif\u001b[0m \u001b[0mengine\u001b[0m \u001b[1;33m==\u001b[0m \u001b[1;34m'c'\u001b[0m\u001b[1;33m:\u001b[0m\u001b[1;33m\u001b[0m\u001b[0m\n\u001b[1;32m-> 1014\u001b[1;33m             \u001b[0mself\u001b[0m\u001b[1;33m.\u001b[0m\u001b[0m_engine\u001b[0m \u001b[1;33m=\u001b[0m \u001b[0mCParserWrapper\u001b[0m\u001b[1;33m(\u001b[0m\u001b[0mself\u001b[0m\u001b[1;33m.\u001b[0m\u001b[0mf\u001b[0m\u001b[1;33m,\u001b[0m \u001b[1;33m**\u001b[0m\u001b[0mself\u001b[0m\u001b[1;33m.\u001b[0m\u001b[0moptions\u001b[0m\u001b[1;33m)\u001b[0m\u001b[1;33m\u001b[0m\u001b[0m\n\u001b[0m\u001b[0;32m   1015\u001b[0m         \u001b[1;32melse\u001b[0m\u001b[1;33m:\u001b[0m\u001b[1;33m\u001b[0m\u001b[0m\n\u001b[0;32m   1016\u001b[0m             \u001b[1;32mif\u001b[0m \u001b[0mengine\u001b[0m \u001b[1;33m==\u001b[0m \u001b[1;34m'python'\u001b[0m\u001b[1;33m:\u001b[0m\u001b[1;33m\u001b[0m\u001b[0m\n",
      "\u001b[1;32m~\\Anaconda3\\lib\\site-packages\\pandas\\io\\parsers.py\u001b[0m in \u001b[0;36m__init__\u001b[1;34m(self, src, **kwds)\u001b[0m\n\u001b[0;32m   1706\u001b[0m         \u001b[0mkwds\u001b[0m\u001b[1;33m[\u001b[0m\u001b[1;34m'usecols'\u001b[0m\u001b[1;33m]\u001b[0m \u001b[1;33m=\u001b[0m \u001b[0mself\u001b[0m\u001b[1;33m.\u001b[0m\u001b[0musecols\u001b[0m\u001b[1;33m\u001b[0m\u001b[0m\n\u001b[0;32m   1707\u001b[0m \u001b[1;33m\u001b[0m\u001b[0m\n\u001b[1;32m-> 1708\u001b[1;33m         \u001b[0mself\u001b[0m\u001b[1;33m.\u001b[0m\u001b[0m_reader\u001b[0m \u001b[1;33m=\u001b[0m \u001b[0mparsers\u001b[0m\u001b[1;33m.\u001b[0m\u001b[0mTextReader\u001b[0m\u001b[1;33m(\u001b[0m\u001b[0msrc\u001b[0m\u001b[1;33m,\u001b[0m \u001b[1;33m**\u001b[0m\u001b[0mkwds\u001b[0m\u001b[1;33m)\u001b[0m\u001b[1;33m\u001b[0m\u001b[0m\n\u001b[0m\u001b[0;32m   1709\u001b[0m \u001b[1;33m\u001b[0m\u001b[0m\n\u001b[0;32m   1710\u001b[0m         \u001b[0mpassed_names\u001b[0m \u001b[1;33m=\u001b[0m \u001b[0mself\u001b[0m\u001b[1;33m.\u001b[0m\u001b[0mnames\u001b[0m \u001b[1;32mis\u001b[0m \u001b[1;32mNone\u001b[0m\u001b[1;33m\u001b[0m\u001b[0m\n",
      "\u001b[1;32mpandas\\_libs\\parsers.pyx\u001b[0m in \u001b[0;36mpandas._libs.parsers.TextReader.__cinit__\u001b[1;34m()\u001b[0m\n",
      "\u001b[1;32mpandas\\_libs\\parsers.pyx\u001b[0m in \u001b[0;36mpandas._libs.parsers.TextReader._setup_parser_source\u001b[1;34m()\u001b[0m\n",
      "\u001b[1;31mFileNotFoundError\u001b[0m: File b'round1_ijcai_18_train_20180301.txt' does not exist"
     ]
    }
   ],
   "source": [
    "import pandas as pd\n",
    "import numpy as np\n",
    "import time\n",
    "start = time.time()\n",
    "##读取并合并数据\n",
    "data_train = pd.read_csv(\"round1_ijcai_18_train_20180301.txt\",sep=\" \")\n",
    "data_train = data_train.drop_duplicates()\n",
    "data_test = pd.read_csv(\"round1_ijcai_18_test_a_20180301.txt\",sep=\" \")\n",
    "data_all = pd.concat([data_train,data_test],axis=0)\n",
    "data_train =[]\n",
    "data_test = []\n",
    "##排序后重新索引\n",
    "data_all = data_all.sort_values('context_timestamp')\n",
    "data_all = pd.DataFrame(data_all.values,columns=data_all.columns)\n",
    "##不去除重复值和填补缺失值-1，将缺失值作为同类一起处理\n",
    "#data_all = data_all.replace(to_replace = [-1],value=[np.nan])\n",
    "length = len(data_all)\n",
    "#将时间戳转换为时间信息,提取day和hour\n",
    "import datetime\n",
    "time_array = []\n",
    "for i in range(length):\n",
    "    time_list = []\n",
    "    unix_ts = data_all.iloc[i]['context_timestamp']\n",
    "    time = datetime.datetime.fromtimestamp(int(unix_ts))\n",
    "    time_list.append(time.minute)\n",
    "    time_list.append(time.day)\n",
    "    time_list.append(time.hour)\n",
    "    time_array.append(time_list)\n",
    "time_array = pd.DataFrame(time_array,columns = ['min','day','hour'])\n",
    "data_all.insert(0,'min',time_array['min'].values)\n",
    "data_all.insert(0,'day',time_array['day'].values)\n",
    "data_all.insert(0,'hour',time_array['hour'].values)\n",
    "data_all.insert(0,'week_day',(time_array['day'].values)%7)"
   ]
  },
  {
   "cell_type": "code",
   "execution_count": null,
   "metadata": {},
   "outputs": [],
   "source": [
    "col = ['item_brand_id','item_city_id','shop_id','user_id',\n",
    "       'item_id','user_gender_id','user_occupation_id','item_category_list']\n",
    "for co in col:\n",
    "    se = data_all[co].drop_duplicates()\n",
    "    se = pd.Series(se.index,index=se.values)\n",
    "    data_all[co] = data_all[co].map(se)\n",
    "data_all['time'] = ((data_all['day']-18)*24*60+(data_all['hour'])*60+data_all['min']).astype(int)\n",
    "one = []\n",
    "for i in range(len(data_all)):\n",
    "    one.append(1)\n",
    "data_all.insert(0,'cnt',one)\n",
    "data_all.to_csv(\"data_for_click_statistics.csv\",index=False)"
   ]
  },
  {
   "cell_type": "code",
   "execution_count": null,
   "metadata": {},
   "outputs": [],
   "source": []
  },
  {
   "cell_type": "code",
   "execution_count": null,
   "metadata": {
    "scrolled": true
   },
   "outputs": [],
   "source": [
    "feature_click = pd.DataFrame()\n",
    "data_all = pd.read_csv(\"data_for_click_statistics.csv\")\n",
    "feature_click.insert(0,'is_trade',data_all['is_trade'].values)\n",
    "time = list(data_all['time'].drop_duplicates())\n",
    "time_gap = [10,60,360,1440,2880]\n",
    "col = ['item_brand_id','item_city_id','shop_id','user_id','hour',\n",
    "       'item_id','user_gender_id','user_occupation_id','item_category_list']\n",
    "for tg in time_gap:\n",
    "    for co in col:\n",
    "        data_all = pd.read_csv(\"data_for_click_statistics.csv\")[[co,'time']]\n",
    "        click = []\n",
    "        for i in range(len(time)):\n",
    "            data_before = data_all[(data_all['time']>time[i]-tg)&(data_all['time']<time[i])]\n",
    "            data_now = data_all[data_all['time']==time[i]]\n",
    "            if len(data_before)==0:\n",
    "                for k in range(len(data_now)):\n",
    "                    click.append(0)\n",
    "            else:\n",
    "                se = data_before[co].value_counts()\n",
    "                click.extend(data_now[co].map(se).values)\n",
    "            if i%100==0:\n",
    "                print(i)\n",
    "        col_name = co+\"_click_last_\"+str(tg)+\"_minutes\"\n",
    "        print(tg,co,len(click))\n",
    "        feature_click[col_name] = click\n",
    "        feature_click.fillna(value=0,inplace=True)\n",
    "        print(feature_click.corr()['is_trade'].sort_values())\n",
    "        feature_click.to_csv(\"feature_click.csv\",index=False)"
   ]
  },
  {
   "cell_type": "code",
   "execution_count": null,
   "metadata": {},
   "outputs": [],
   "source": [
    "##点击次数组合"
   ]
  },
  {
   "cell_type": "code",
   "execution_count": null,
   "metadata": {},
   "outputs": [],
   "source": [
    "import pandas as pd\n",
    "import numpy as np\n",
    "feature_click = pd.DataFrame()\n",
    "data_all = pd.read_csv(\"data_for_click_statistics.csv\")\n",
    "feature_click.insert(0,'is_trade',data_all['is_trade'].values)\n",
    "tim = list(data_all['time'].drop_duplicates())\n",
    "time_gap = [10,60,360,1440,2880]\n",
    "col = ['item_brand_id','item_city_id','shop_id','user_id','hour',\n",
    "       'item_id','user_gender_id','user_occupation_id','item_category_list']"
   ]
  },
  {
   "cell_type": "code",
   "execution_count": null,
   "metadata": {},
   "outputs": [],
   "source": [
    "n = len(col)\n",
    "num = 0\n",
    "for tg in time_gap:\n",
    "    for a in range(n):\n",
    "        for b in range(n-a-1):\n",
    "            if num>116:\n",
    "                import time\n",
    "                start = time.time()\n",
    "                col_new = [col[a],col[a+b+1]]\n",
    "                col_new.append('time')\n",
    "                col_new.append('cnt')\n",
    "                data_all = pd.read_csv(\"data_for_click_statistics.csv\")[col_new]\n",
    "                click = []\n",
    "                for i in range(len(tim)):\n",
    "                    data_before = data_all[(data_all['time']>tim[i]-tg)&(data_all['time']<tim[i])]\n",
    "                    data_now = data_all[data_all['time']==tim[i]]\n",
    "                    if len(data_before)==0:\n",
    "                        for k in range(len(data_now)):\n",
    "                            click.append(0)\n",
    "                    else:\n",
    "                        se = data_before.groupby([col[a],col[a+b+1]])['cnt'].sum()\n",
    "                        for r in range(len(data_now)):\n",
    "                            ind = (data_now.iloc[r][col[a]],data_now.iloc[r][col[a+b+1]])\n",
    "                            if ind in se.index:\n",
    "                                click.append(se.loc[ind])\n",
    "                            else:\n",
    "                                click.append(0)\n",
    "                    if i%100==0:\n",
    "                        print(i)\n",
    "                col_name = col[a]+\"_\"+col[a+b+1]+\"_click_last_\"+str(tg)+\"_minutes\"\n",
    "                print(tg,col_new,len(click))\n",
    "                feature_click[col_name] = click\n",
    "                feature_click.fillna(value=0,inplace=True)\n",
    "                print(feature_click.corr()['is_trade'].sort_values())\n",
    "                feature_click.to_csv(\"feature_click_combine_2.csv\",index=False)\n",
    "                print(time.time()-start,\"s\")\n",
    "            num+=1"
   ]
  },
  {
   "cell_type": "code",
   "execution_count": null,
   "metadata": {},
   "outputs": [],
   "source": []
  },
  {
   "cell_type": "code",
   "execution_count": null,
   "metadata": {},
   "outputs": [],
   "source": [
    "data_all.columns"
   ]
  },
  {
   "cell_type": "code",
   "execution_count": null,
   "metadata": {},
   "outputs": [],
   "source": [
    "data_all = pd.read_csv(\"data_for_click_statistics.csv\")"
   ]
  },
  {
   "cell_type": "code",
   "execution_count": null,
   "metadata": {},
   "outputs": [],
   "source": []
  }
 ],
 "metadata": {
  "kernelspec": {
   "display_name": "Python 3",
   "language": "python",
   "name": "python3"
  },
  "language_info": {
   "codemirror_mode": {
    "name": "ipython",
    "version": 3
   },
   "file_extension": ".py",
   "mimetype": "text/x-python",
   "name": "python",
   "nbconvert_exporter": "python",
   "pygments_lexer": "ipython3",
   "version": "3.7.0"
  }
 },
 "nbformat": 4,
 "nbformat_minor": 2
}
