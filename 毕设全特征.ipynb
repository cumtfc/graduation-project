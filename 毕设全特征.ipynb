{
 "cells": [
  {
   "cell_type": "code",
   "execution_count": 1,
   "metadata": {},
   "outputs": [],
   "source": [
    "# -*- coding: utf-8 -*-\n",
    "import pandas as pd\n",
    "import numpy as np\n",
    "import warnings\n",
    "import xgboost as xgb\n",
    "from sklearn.model_selection import train_test_split\n",
    "from sklearn import metrics\n",
    "from imblearn.combine import SMOTEENN\n",
    "import gc\n",
    "%matplotlib inline\n",
    "\n",
    "warnings.filterwarnings(\"ignore\")\n",
    "\n",
    "\n",
    "\n",
    "def feat_select(train, test):\n",
    "    features = train.drop(['is_trade', 'time', 'context_timestamp','instance_id'], axis=1).columns.tolist()\n",
    "    feature = []\n",
    "    target = ['is_trade']\n",
    "\n",
    "    return features, target\n",
    "\n",
    "\n",
    "def xgbCV(train, test):\n",
    "    features, target = feat_select(train, test)\n",
    "\n",
    "    X = train[features]\n",
    "    y = train[target]\n",
    "    X_tes = test[features]\n",
    "    y_tes = test[target]\n",
    "\n",
    "    print('Training XGB model...')\n",
    "    X_train_set = xgb.DMatrix(X, label=y, missing=np.nan)\n",
    "    X_validate_set = xgb.DMatrix(X_tes, label=y_tes, missing=np.nan)\n",
    "    watchlist = [(X_train_set, 'train'), (X_validate_set, 'eval')]\n",
    "    params = {'max_depth': 7,\n",
    "              'nthread': -1,\n",
    "              'eta': 0.01,\n",
    "              'eval_metric': 'auc',\n",
    "              'objective': 'binary:logistic',\n",
    "              'subsample': 0.85,\n",
    "              'colsample_bytree': 0.85,\n",
    "              'silent': 1,\n",
    "              'seed': 0,\n",
    "              'min_child_weight': 6,\n",
    "              'gpu_id': 0,\n",
    "              'tree_method': 'gpu_hist',\n",
    "#               'scale_pos_weight':20\n",
    "              }\n",
    "    gbm = xgb.train(params, X_train_set, num_boost_round=3000, evals=watchlist, early_stopping_rounds=50)\n",
    "\n",
    "    best_iter_num = gbm.best_iteration\n",
    "    return best_iter_num\n",
    "\n",
    "\n",
    "def sub(train, test, best_iter_num):\n",
    "    features, target = feat_select(train, test)\n",
    "\n",
    "    X = train[features]\n",
    "    y = train[target]\n",
    "    X_train_set = xgb.DMatrix(X, label=y, missing=np.nan)\n",
    "    X_test_set = xgb.DMatrix(test[features], missing=np.nan)\n",
    "    print('Training XGB model...')\n",
    "    params = {'max_depth': 7,\n",
    "              'nthread': -1,\n",
    "              'eta': 0.01,\n",
    "              'eval_metric': 'auc',\n",
    "              'objective': 'binary:logistic',\n",
    "              'subsample': 0.85,\n",
    "              'colsample_bytree': 0.85,\n",
    "              'silent': 1,\n",
    "              'seed': 0,\n",
    "              'min_child_weight': 6,\n",
    "              'gpu_id': 0,\n",
    "              'tree_method': 'gpu_hist',\n",
    "#               'scale_pos_weight':20\n",
    "              }\n",
    "    gbm = xgb.train(params, X_train_set, num_boost_round=best_iter_num)\n",
    "    gbm.save_model('001.model')"
   ]
  },
  {
   "cell_type": "code",
   "execution_count": 2,
   "metadata": {},
   "outputs": [],
   "source": [
    "path = './data/'\n",
    "data = pd.read_csv(path + 'all_final_data_11-07-18-51.csv')\n",
    "data = data[data.is_trade.notnull()]\n",
    "train_data, test_data = train_test_split(data, test_size=0.25)"
   ]
  },
  {
   "cell_type": "code",
   "execution_count": 3,
   "metadata": {},
   "outputs": [
    {
     "data": {
      "text/plain": [
       "(9499, 250)"
      ]
     },
     "execution_count": 3,
     "metadata": {},
     "output_type": "execute_result"
    }
   ],
   "source": [
    "data[data.is_trade==1].shape"
   ]
  },
  {
   "cell_type": "code",
   "execution_count": 4,
   "metadata": {},
   "outputs": [
    {
     "data": {
      "text/plain": [
       "(469516, 250)"
      ]
     },
     "execution_count": 4,
     "metadata": {},
     "output_type": "execute_result"
    }
   ],
   "source": [
    "data[data.is_trade==0].shape"
   ]
  },
  {
   "cell_type": "code",
   "execution_count": 5,
   "metadata": {},
   "outputs": [],
   "source": [
    "features, target = feat_select(train_data, test_data)\n",
    "sm=SMOTEENN()\n",
    "# train_data.replace(to_replace=-1,value=0,inplace=True)\n",
    "train_data.replace(to_replace=np.nan, value=0, inplace=True)\n",
    "train_data.replace(to_replace=-np.inf, value=0, inplace=True)\n",
    "train_data.replace(to_replace=np.inf, value=0, inplace=True)"
   ]
  },
  {
   "cell_type": "code",
   "execution_count": null,
   "metadata": {},
   "outputs": [],
   "source": [
    "X_resampled, y_resampled = sm.fit_resample(train_data[features], train_data[target])\n",
    "X_resampled = pd.DataFrame(X_resampled, columns=features)\n",
    "y_resampled = pd.DataFrame(y_resampled, columns=target)\n",
    "X_resampled['is_trade'] = y_resampled['is_trade']\n",
    "del y_resampled\n",
    "gc.collect()"
   ]
  },
  {
   "cell_type": "code",
   "execution_count": null,
   "metadata": {},
   "outputs": [],
   "source": [
    "best_iter = xgbCV(train_data, test_data)\n",
    "print('最佳迭代次数：', best_iter)"
   ]
  },
  {
   "cell_type": "code",
   "execution_count": null,
   "metadata": {},
   "outputs": [],
   "source": [
    "sub(train_data, test_data, best_iter)\n",
    "gc.collect()"
   ]
  },
  {
   "cell_type": "code",
   "execution_count": null,
   "metadata": {},
   "outputs": [],
   "source": [
    "bst = xgb.Booster({'nthread': 6})  # init model\n",
    "bst.load_model('001.model')  # load data\n",
    "X_test_set=xgb.DMatrix(test_data[features], missing=np.nan)\n",
    "y_pred = bst.predict(X_test_set)"
   ]
  },
  {
   "cell_type": "code",
   "execution_count": null,
   "metadata": {},
   "outputs": [],
   "source": [
    "y_true= test_data[target].values"
   ]
  },
  {
   "cell_type": "code",
   "execution_count": null,
   "metadata": {},
   "outputs": [],
   "source": [
    "y_true.shape"
   ]
  },
  {
   "cell_type": "code",
   "execution_count": null,
   "metadata": {},
   "outputs": [],
   "source": [
    "y_pred"
   ]
  },
  {
   "cell_type": "code",
   "execution_count": null,
   "metadata": {},
   "outputs": [],
   "source": [
    "predictions = [round(value) for value in y_pred]\n",
    "predictions=np.array(predictions).T\n",
    "predictions.shape"
   ]
  },
  {
   "cell_type": "code",
   "execution_count": null,
   "metadata": {},
   "outputs": [],
   "source": [
    "tp=0\n",
    "tn=0\n",
    "fp=0\n",
    "fn=0\n",
    "for i in range(0,119754):\n",
    "    if predictions[i]==y_true.T[0][i]:\n",
    "        if predictions[i]==1:\n",
    "            tp+=1\n",
    "        else:\n",
    "            tn+=1\n",
    "    else:\n",
    "        if predictions[i]==1:\n",
    "            fp+=1\n",
    "        else:\n",
    "            fn+=1\n",
    "    \n",
    "print(tp,tn,fp,fn)\n",
    "        "
   ]
  },
  {
   "cell_type": "code",
   "execution_count": null,
   "metadata": {},
   "outputs": [],
   "source": [
    "y_true.T[0]\n"
   ]
  },
  {
   "cell_type": "code",
   "execution_count": null,
   "metadata": {
    "scrolled": false
   },
   "outputs": [],
   "source": [
    "#输出模型的一些结果\n",
    "print (\"\\n关于现在这个模型\")\n",
    "print (\"准确率 : %.4f\" % metrics.accuracy_score(y_true, predictions))\n",
    "print(\"召回率:%.4f\" % metrics.recall_score(y_true,predictions))\n",
    "print(\"精度:%.4f\" % metrics.precision_score(y_true, predictions))\n",
    "print(\"F1:%.4f\" % metrics.f1_score(y_true, predictions))\n",
    "print (\"AUC 得分 (训练集): %f\" % 0.905728)\n",
    "print (\"AUC 得分 (测试集): %f\" % 0.767387)"
   ]
  },
  {
   "cell_type": "code",
   "execution_count": null,
   "metadata": {
    "scrolled": true
   },
   "outputs": [],
   "source": [
    "xgb.plot_importance(gbm)"
   ]
  },
  {
   "cell_type": "code",
   "execution_count": null,
   "metadata": {},
   "outputs": [],
   "source": [
    "importance = gbm.get_fscore()\n",
    "for key,value in importance.items():\n",
    "    print(key,value)"
   ]
  },
  {
   "cell_type": "code",
   "execution_count": null,
   "metadata": {},
   "outputs": [],
   "source": []
  }
 ],
 "metadata": {
  "kernelspec": {
   "display_name": "Python 3",
   "language": "python",
   "name": "python3"
  },
  "language_info": {
   "codemirror_mode": {
    "name": "ipython",
    "version": 3
   },
   "file_extension": ".py",
   "mimetype": "text/x-python",
   "name": "python",
   "nbconvert_exporter": "python",
   "pygments_lexer": "ipython3",
   "version": "3.7.0"
  }
 },
 "nbformat": 4,
 "nbformat_minor": 2
}
