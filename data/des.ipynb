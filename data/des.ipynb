{
 "cells": [
  {
   "cell_type": "code",
   "execution_count": 3,
   "metadata": {},
   "outputs": [],
   "source": [
    "import numpy as np\n",
    "import pandas as pd\n",
    "import matplotlib.pyplot as plt\n",
    "import seaborn as sns\n",
    "%matplotlib inline"
   ]
  },
  {
   "cell_type": "markdown",
   "metadata": {},
   "source": [
    "### 读取数据round1_ijcai_18_train_20180301.txt"
   ]
  },
  {
   "cell_type": "code",
   "execution_count": 4,
   "metadata": {},
   "outputs": [],
   "source": [
    "df_origin = pd.read_table('round1_ijcai_18_train_20180301.txt',sep=' ')"
   ]
  },
  {
   "cell_type": "markdown",
   "metadata": {},
   "source": [
    "先查看下数据"
   ]
  },
  {
   "cell_type": "code",
   "execution_count": 5,
   "metadata": {
    "scrolled": true
   },
   "outputs": [
    {
     "data": {
      "text/html": [
       "<div>\n",
       "<style scoped>\n",
       "    .dataframe tbody tr th:only-of-type {\n",
       "        vertical-align: middle;\n",
       "    }\n",
       "\n",
       "    .dataframe tbody tr th {\n",
       "        vertical-align: top;\n",
       "    }\n",
       "\n",
       "    .dataframe thead th {\n",
       "        text-align: right;\n",
       "    }\n",
       "</style>\n",
       "<table border=\"1\" class=\"dataframe\">\n",
       "  <thead>\n",
       "    <tr style=\"text-align: right;\">\n",
       "      <th></th>\n",
       "      <th>instance_id</th>\n",
       "      <th>item_id</th>\n",
       "      <th>item_category_list</th>\n",
       "      <th>item_property_list</th>\n",
       "      <th>item_brand_id</th>\n",
       "      <th>item_city_id</th>\n",
       "      <th>item_price_level</th>\n",
       "      <th>item_sales_level</th>\n",
       "      <th>item_collected_level</th>\n",
       "      <th>item_pv_level</th>\n",
       "      <th>...</th>\n",
       "      <th>context_page_id</th>\n",
       "      <th>predict_category_property</th>\n",
       "      <th>shop_id</th>\n",
       "      <th>shop_review_num_level</th>\n",
       "      <th>shop_review_positive_rate</th>\n",
       "      <th>shop_star_level</th>\n",
       "      <th>shop_score_service</th>\n",
       "      <th>shop_score_delivery</th>\n",
       "      <th>shop_score_description</th>\n",
       "      <th>is_trade</th>\n",
       "    </tr>\n",
       "  </thead>\n",
       "  <tbody>\n",
       "    <tr>\n",
       "      <th>0</th>\n",
       "      <td>108641074714126964</td>\n",
       "      <td>3412720377098676069</td>\n",
       "      <td>7908382889764677758;5799347067982556520</td>\n",
       "      <td>2072967855524022579;5131280576272319091;263639...</td>\n",
       "      <td>1975590437749032870</td>\n",
       "      <td>3948283326616421003</td>\n",
       "      <td>3</td>\n",
       "      <td>3</td>\n",
       "      <td>4</td>\n",
       "      <td>14</td>\n",
       "      <td>...</td>\n",
       "      <td>4006</td>\n",
       "      <td>5799347067982556520:-1;509660095530134768:-1;5...</td>\n",
       "      <td>6765930309048922341</td>\n",
       "      <td>4</td>\n",
       "      <td>1.0</td>\n",
       "      <td>5002</td>\n",
       "      <td>1.0</td>\n",
       "      <td>1.0</td>\n",
       "      <td>1.0</td>\n",
       "      <td>0</td>\n",
       "    </tr>\n",
       "    <tr>\n",
       "      <th>1</th>\n",
       "      <td>5754713551599725161</td>\n",
       "      <td>3412720377098676069</td>\n",
       "      <td>7908382889764677758;5799347067982556520</td>\n",
       "      <td>2072967855524022579;5131280576272319091;263639...</td>\n",
       "      <td>1975590437749032870</td>\n",
       "      <td>3948283326616421003</td>\n",
       "      <td>3</td>\n",
       "      <td>3</td>\n",
       "      <td>4</td>\n",
       "      <td>14</td>\n",
       "      <td>...</td>\n",
       "      <td>4001</td>\n",
       "      <td>5799347067982556520:9172976955054793469;790838...</td>\n",
       "      <td>6765930309048922341</td>\n",
       "      <td>4</td>\n",
       "      <td>1.0</td>\n",
       "      <td>5002</td>\n",
       "      <td>1.0</td>\n",
       "      <td>1.0</td>\n",
       "      <td>1.0</td>\n",
       "      <td>0</td>\n",
       "    </tr>\n",
       "    <tr>\n",
       "      <th>2</th>\n",
       "      <td>842679481291040981</td>\n",
       "      <td>3412720377098676069</td>\n",
       "      <td>7908382889764677758;5799347067982556520</td>\n",
       "      <td>2072967855524022579;5131280576272319091;263639...</td>\n",
       "      <td>1975590437749032870</td>\n",
       "      <td>3948283326616421003</td>\n",
       "      <td>3</td>\n",
       "      <td>3</td>\n",
       "      <td>4</td>\n",
       "      <td>14</td>\n",
       "      <td>...</td>\n",
       "      <td>4001</td>\n",
       "      <td>5799347067982556520:5131280576272319091;725801...</td>\n",
       "      <td>6765930309048922341</td>\n",
       "      <td>4</td>\n",
       "      <td>1.0</td>\n",
       "      <td>5002</td>\n",
       "      <td>1.0</td>\n",
       "      <td>1.0</td>\n",
       "      <td>1.0</td>\n",
       "      <td>0</td>\n",
       "    </tr>\n",
       "    <tr>\n",
       "      <th>3</th>\n",
       "      <td>937088850059189027</td>\n",
       "      <td>3412720377098676069</td>\n",
       "      <td>7908382889764677758;5799347067982556520</td>\n",
       "      <td>2072967855524022579;5131280576272319091;263639...</td>\n",
       "      <td>1975590437749032870</td>\n",
       "      <td>3948283326616421003</td>\n",
       "      <td>3</td>\n",
       "      <td>3</td>\n",
       "      <td>4</td>\n",
       "      <td>14</td>\n",
       "      <td>...</td>\n",
       "      <td>4016</td>\n",
       "      <td>509660095530134768:-1;5799347067982556520:-1;7...</td>\n",
       "      <td>6765930309048922341</td>\n",
       "      <td>4</td>\n",
       "      <td>1.0</td>\n",
       "      <td>5002</td>\n",
       "      <td>1.0</td>\n",
       "      <td>1.0</td>\n",
       "      <td>1.0</td>\n",
       "      <td>0</td>\n",
       "    </tr>\n",
       "    <tr>\n",
       "      <th>4</th>\n",
       "      <td>7975697065017708072</td>\n",
       "      <td>3412720377098676069</td>\n",
       "      <td>7908382889764677758;5799347067982556520</td>\n",
       "      <td>2072967855524022579;5131280576272319091;263639...</td>\n",
       "      <td>1975590437749032870</td>\n",
       "      <td>3948283326616421003</td>\n",
       "      <td>3</td>\n",
       "      <td>3</td>\n",
       "      <td>4</td>\n",
       "      <td>14</td>\n",
       "      <td>...</td>\n",
       "      <td>4001</td>\n",
       "      <td>5799347067982556520:9172976955054793469;790838...</td>\n",
       "      <td>6765930309048922341</td>\n",
       "      <td>4</td>\n",
       "      <td>1.0</td>\n",
       "      <td>5002</td>\n",
       "      <td>1.0</td>\n",
       "      <td>1.0</td>\n",
       "      <td>1.0</td>\n",
       "      <td>0</td>\n",
       "    </tr>\n",
       "  </tbody>\n",
       "</table>\n",
       "<p>5 rows × 27 columns</p>\n",
       "</div>"
      ],
      "text/plain": [
       "           instance_id              item_id  \\\n",
       "0   108641074714126964  3412720377098676069   \n",
       "1  5754713551599725161  3412720377098676069   \n",
       "2   842679481291040981  3412720377098676069   \n",
       "3   937088850059189027  3412720377098676069   \n",
       "4  7975697065017708072  3412720377098676069   \n",
       "\n",
       "                        item_category_list  \\\n",
       "0  7908382889764677758;5799347067982556520   \n",
       "1  7908382889764677758;5799347067982556520   \n",
       "2  7908382889764677758;5799347067982556520   \n",
       "3  7908382889764677758;5799347067982556520   \n",
       "4  7908382889764677758;5799347067982556520   \n",
       "\n",
       "                                  item_property_list        item_brand_id  \\\n",
       "0  2072967855524022579;5131280576272319091;263639...  1975590437749032870   \n",
       "1  2072967855524022579;5131280576272319091;263639...  1975590437749032870   \n",
       "2  2072967855524022579;5131280576272319091;263639...  1975590437749032870   \n",
       "3  2072967855524022579;5131280576272319091;263639...  1975590437749032870   \n",
       "4  2072967855524022579;5131280576272319091;263639...  1975590437749032870   \n",
       "\n",
       "          item_city_id  item_price_level  item_sales_level  \\\n",
       "0  3948283326616421003                 3                 3   \n",
       "1  3948283326616421003                 3                 3   \n",
       "2  3948283326616421003                 3                 3   \n",
       "3  3948283326616421003                 3                 3   \n",
       "4  3948283326616421003                 3                 3   \n",
       "\n",
       "   item_collected_level  item_pv_level    ...     context_page_id  \\\n",
       "0                     4             14    ...                4006   \n",
       "1                     4             14    ...                4001   \n",
       "2                     4             14    ...                4001   \n",
       "3                     4             14    ...                4016   \n",
       "4                     4             14    ...                4001   \n",
       "\n",
       "                           predict_category_property              shop_id  \\\n",
       "0  5799347067982556520:-1;509660095530134768:-1;5...  6765930309048922341   \n",
       "1  5799347067982556520:9172976955054793469;790838...  6765930309048922341   \n",
       "2  5799347067982556520:5131280576272319091;725801...  6765930309048922341   \n",
       "3  509660095530134768:-1;5799347067982556520:-1;7...  6765930309048922341   \n",
       "4  5799347067982556520:9172976955054793469;790838...  6765930309048922341   \n",
       "\n",
       "   shop_review_num_level  shop_review_positive_rate  shop_star_level  \\\n",
       "0                      4                        1.0             5002   \n",
       "1                      4                        1.0             5002   \n",
       "2                      4                        1.0             5002   \n",
       "3                      4                        1.0             5002   \n",
       "4                      4                        1.0             5002   \n",
       "\n",
       "   shop_score_service  shop_score_delivery shop_score_description  is_trade  \n",
       "0                 1.0                  1.0                    1.0         0  \n",
       "1                 1.0                  1.0                    1.0         0  \n",
       "2                 1.0                  1.0                    1.0         0  \n",
       "3                 1.0                  1.0                    1.0         0  \n",
       "4                 1.0                  1.0                    1.0         0  \n",
       "\n",
       "[5 rows x 27 columns]"
      ]
     },
     "execution_count": 5,
     "metadata": {},
     "output_type": "execute_result"
    }
   ],
   "source": [
    "df_origin.head(5)"
   ]
  },
  {
   "cell_type": "code",
   "execution_count": 6,
   "metadata": {},
   "outputs": [
    {
     "data": {
      "text/plain": [
       "(478138, 27)"
      ]
     },
     "execution_count": 6,
     "metadata": {},
     "output_type": "execute_result"
    }
   ],
   "source": [
    "df_origin.shape"
   ]
  },
  {
   "cell_type": "code",
   "execution_count": 7,
   "metadata": {
    "scrolled": true
   },
   "outputs": [
    {
     "data": {
      "text/plain": [
       "instance_id                  478138\n",
       "item_id                      478138\n",
       "item_category_list           478138\n",
       "item_property_list           478138\n",
       "item_brand_id                478138\n",
       "item_city_id                 478138\n",
       "item_price_level             478138\n",
       "item_sales_level             478138\n",
       "item_collected_level         478138\n",
       "item_pv_level                478138\n",
       "user_id                      478138\n",
       "user_gender_id               478138\n",
       "user_age_level               478138\n",
       "user_occupation_id           478138\n",
       "user_star_level              478138\n",
       "context_id                   478138\n",
       "context_timestamp            478138\n",
       "context_page_id              478138\n",
       "predict_category_property    478138\n",
       "shop_id                      478138\n",
       "shop_review_num_level        478138\n",
       "shop_review_positive_rate    478138\n",
       "shop_star_level              478138\n",
       "shop_score_service           478138\n",
       "shop_score_delivery          478138\n",
       "shop_score_description       478138\n",
       "is_trade                     478138\n",
       "dtype: int64"
      ]
     },
     "execution_count": 7,
     "metadata": {},
     "output_type": "execute_result"
    }
   ],
   "source": [
    "df_origin.count()"
   ]
  },
  {
   "cell_type": "markdown",
   "metadata": {},
   "source": [
    "数据完整，没有缺省值"
   ]
  },
  {
   "cell_type": "code",
   "execution_count": 8,
   "metadata": {
    "scrolled": true
   },
   "outputs": [
    {
     "data": {
      "text/plain": [
       "instance_id                    int64\n",
       "item_id                        int64\n",
       "item_category_list            object\n",
       "item_property_list            object\n",
       "item_brand_id                  int64\n",
       "item_city_id                   int64\n",
       "item_price_level               int64\n",
       "item_sales_level               int64\n",
       "item_collected_level           int64\n",
       "item_pv_level                  int64\n",
       "user_id                        int64\n",
       "user_gender_id                 int64\n",
       "user_age_level                 int64\n",
       "user_occupation_id             int64\n",
       "user_star_level                int64\n",
       "context_id                     int64\n",
       "context_timestamp              int64\n",
       "context_page_id                int64\n",
       "predict_category_property     object\n",
       "shop_id                        int64\n",
       "shop_review_num_level          int64\n",
       "shop_review_positive_rate    float64\n",
       "shop_star_level                int64\n",
       "shop_score_service           float64\n",
       "shop_score_delivery          float64\n",
       "shop_score_description       float64\n",
       "is_trade                       int64\n",
       "dtype: object"
      ]
     },
     "execution_count": 8,
     "metadata": {},
     "output_type": "execute_result"
    }
   ],
   "source": [
    "df_origin.dtypes"
   ]
  },
  {
   "cell_type": "code",
   "execution_count": 9,
   "metadata": {},
   "outputs": [
    {
     "data": {
      "text/plain": [
       "is_trade    9021\n",
       "dtype: int64"
      ]
     },
     "execution_count": 9,
     "metadata": {},
     "output_type": "execute_result"
    }
   ],
   "source": [
    "#产生购买的记录数量\n",
    "df_origin[['is_trade']].sum()"
   ]
  },
  {
   "cell_type": "code",
   "execution_count": 10,
   "metadata": {},
   "outputs": [
    {
     "data": {
      "text/plain": [
       "is_trade    0.018867\n",
       "dtype: float64"
      ]
     },
     "execution_count": 10,
     "metadata": {},
     "output_type": "execute_result"
    }
   ],
   "source": [
    "#总体购买转化率\n",
    "df_origin[['is_trade']].sum()/df_origin[['is_trade']].count()"
   ]
  },
  {
   "cell_type": "code",
   "execution_count": 9,
   "metadata": {},
   "outputs": [
    {
     "data": {
      "text/plain": [
       "context_timestamp    1537804787\n",
       "dtype: int64"
      ]
     },
     "execution_count": 9,
     "metadata": {},
     "output_type": "execute_result"
    }
   ],
   "source": [
    "#数据时间分布\n",
    "df_origin[['context_timestamp']].max()"
   ]
  },
  {
   "cell_type": "code",
   "execution_count": 10,
   "metadata": {},
   "outputs": [
    {
     "data": {
      "text/plain": [
       "shop_id    3959\n",
       "dtype: int64"
      ]
     },
     "execution_count": 10,
     "metadata": {},
     "output_type": "execute_result"
    }
   ],
   "source": [
    "df_origin[['shop_id']].nunique()"
   ]
  },
  {
   "cell_type": "code",
   "execution_count": 11,
   "metadata": {},
   "outputs": [
    {
     "data": {
      "text/plain": [
       "item_id    10075\n",
       "dtype: int64"
      ]
     },
     "execution_count": 11,
     "metadata": {},
     "output_type": "execute_result"
    }
   ],
   "source": [
    "df_origin[['item_id']].nunique()"
   ]
  },
  {
   "cell_type": "code",
   "execution_count": 12,
   "metadata": {},
   "outputs": [
    {
     "data": {
      "text/plain": [
       "item_brand_id    2055\n",
       "dtype: int64"
      ]
     },
     "execution_count": 12,
     "metadata": {},
     "output_type": "execute_result"
    }
   ],
   "source": [
    "df_origin[['item_brand_id']].nunique()"
   ]
  },
  {
   "cell_type": "code",
   "execution_count": 13,
   "metadata": {},
   "outputs": [
    {
     "data": {
      "text/plain": [
       "user_id    197694\n",
       "dtype: int64"
      ]
     },
     "execution_count": 13,
     "metadata": {},
     "output_type": "execute_result"
    }
   ],
   "source": [
    "df_origin[['user_id']].nunique()"
   ]
  },
  {
   "cell_type": "code",
   "execution_count": 14,
   "metadata": {},
   "outputs": [
    {
     "data": {
      "text/html": [
       "<div>\n",
       "<style scoped>\n",
       "    .dataframe tbody tr th:only-of-type {\n",
       "        vertical-align: middle;\n",
       "    }\n",
       "\n",
       "    .dataframe tbody tr th {\n",
       "        vertical-align: top;\n",
       "    }\n",
       "\n",
       "    .dataframe thead th {\n",
       "        text-align: right;\n",
       "    }\n",
       "</style>\n",
       "<table border=\"1\" class=\"dataframe\">\n",
       "  <thead>\n",
       "    <tr style=\"text-align: right;\">\n",
       "      <th></th>\n",
       "      <th>user_gender_id</th>\n",
       "      <th>user_id</th>\n",
       "    </tr>\n",
       "    <tr>\n",
       "      <th>user_gender_id</th>\n",
       "      <th></th>\n",
       "      <th></th>\n",
       "    </tr>\n",
       "  </thead>\n",
       "  <tbody>\n",
       "    <tr>\n",
       "      <th>-1</th>\n",
       "      <td>1</td>\n",
       "      <td>5548</td>\n",
       "    </tr>\n",
       "    <tr>\n",
       "      <th>0</th>\n",
       "      <td>1</td>\n",
       "      <td>148653</td>\n",
       "    </tr>\n",
       "    <tr>\n",
       "      <th>1</th>\n",
       "      <td>1</td>\n",
       "      <td>39333</td>\n",
       "    </tr>\n",
       "    <tr>\n",
       "      <th>2</th>\n",
       "      <td>1</td>\n",
       "      <td>4584</td>\n",
       "    </tr>\n",
       "  </tbody>\n",
       "</table>\n",
       "</div>"
      ],
      "text/plain": [
       "                user_gender_id  user_id\n",
       "user_gender_id                         \n",
       "-1                           1     5548\n",
       " 0                           1   148653\n",
       " 1                           1    39333\n",
       " 2                           1     4584"
      ]
     },
     "execution_count": 14,
     "metadata": {},
     "output_type": "execute_result"
    }
   ],
   "source": [
    "df_origin[['user_gender_id','user_id']].groupby('user_gender_id').nunique()"
   ]
  },
  {
   "cell_type": "code",
   "execution_count": 11,
   "metadata": {},
   "outputs": [
    {
     "data": {
      "text/html": [
       "<div>\n",
       "<style scoped>\n",
       "    .dataframe tbody tr th:only-of-type {\n",
       "        vertical-align: middle;\n",
       "    }\n",
       "\n",
       "    .dataframe tbody tr th {\n",
       "        vertical-align: top;\n",
       "    }\n",
       "\n",
       "    .dataframe thead th {\n",
       "        text-align: right;\n",
       "    }\n",
       "</style>\n",
       "<table border=\"1\" class=\"dataframe\">\n",
       "  <thead>\n",
       "    <tr style=\"text-align: right;\">\n",
       "      <th></th>\n",
       "      <th>user_id</th>\n",
       "    </tr>\n",
       "    <tr>\n",
       "      <th>user_gender_id</th>\n",
       "      <th></th>\n",
       "    </tr>\n",
       "  </thead>\n",
       "  <tbody>\n",
       "    <tr>\n",
       "      <th>-1</th>\n",
       "      <td>12902</td>\n",
       "    </tr>\n",
       "    <tr>\n",
       "      <th>0</th>\n",
       "      <td>360817</td>\n",
       "    </tr>\n",
       "    <tr>\n",
       "      <th>1</th>\n",
       "      <td>94070</td>\n",
       "    </tr>\n",
       "    <tr>\n",
       "      <th>2</th>\n",
       "      <td>10349</td>\n",
       "    </tr>\n",
       "  </tbody>\n",
       "</table>\n",
       "</div>"
      ],
      "text/plain": [
       "                user_id\n",
       "user_gender_id         \n",
       "-1                12902\n",
       " 0               360817\n",
       " 1                94070\n",
       " 2                10349"
      ]
     },
     "execution_count": 11,
     "metadata": {},
     "output_type": "execute_result"
    }
   ],
   "source": [
    "df_origin[['user_gender_id','user_id']].groupby('user_gender_id').count()"
   ]
  },
  {
   "cell_type": "code",
   "execution_count": 15,
   "metadata": {},
   "outputs": [
    {
     "data": {
      "text/html": [
       "<div>\n",
       "<style scoped>\n",
       "    .dataframe tbody tr th:only-of-type {\n",
       "        vertical-align: middle;\n",
       "    }\n",
       "\n",
       "    .dataframe tbody tr th {\n",
       "        vertical-align: top;\n",
       "    }\n",
       "\n",
       "    .dataframe thead th {\n",
       "        text-align: right;\n",
       "    }\n",
       "</style>\n",
       "<table border=\"1\" class=\"dataframe\">\n",
       "  <thead>\n",
       "    <tr style=\"text-align: right;\">\n",
       "      <th></th>\n",
       "      <th>is_trade</th>\n",
       "    </tr>\n",
       "    <tr>\n",
       "      <th>user_gender_id</th>\n",
       "      <th></th>\n",
       "    </tr>\n",
       "  </thead>\n",
       "  <tbody>\n",
       "    <tr>\n",
       "      <th>-1</th>\n",
       "      <td>166</td>\n",
       "    </tr>\n",
       "    <tr>\n",
       "      <th>0</th>\n",
       "      <td>6666</td>\n",
       "    </tr>\n",
       "    <tr>\n",
       "      <th>1</th>\n",
       "      <td>1994</td>\n",
       "    </tr>\n",
       "    <tr>\n",
       "      <th>2</th>\n",
       "      <td>195</td>\n",
       "    </tr>\n",
       "  </tbody>\n",
       "</table>\n",
       "</div>"
      ],
      "text/plain": [
       "                is_trade\n",
       "user_gender_id          \n",
       "-1                   166\n",
       " 0                  6666\n",
       " 1                  1994\n",
       " 2                   195"
      ]
     },
     "execution_count": 15,
     "metadata": {},
     "output_type": "execute_result"
    }
   ],
   "source": [
    "df_origin[['user_gender_id','is_trade']].groupby('user_gender_id').sum()"
   ]
  },
  {
   "cell_type": "code",
   "execution_count": 16,
   "metadata": {
    "scrolled": false
   },
   "outputs": [],
   "source": [
    "forpic1=df_origin[[\"is_trade\",\"shop_id\",\"shop_review_num_level\",\"shop_review_positive_rate\",\"shop_star_level\",\"shop_score_service\",\"shop_score_delivery\",\"shop_score_description\"]]\n",
    "pairplot_param={\"hue\":\"is_trade\"}\n",
    "# sns.pairplot(forpic1)"
   ]
  },
  {
   "cell_type": "code",
   "execution_count": 17,
   "metadata": {},
   "outputs": [
    {
     "data": {
      "text/html": [
       "<div>\n",
       "<style scoped>\n",
       "    .dataframe tbody tr th:only-of-type {\n",
       "        vertical-align: middle;\n",
       "    }\n",
       "\n",
       "    .dataframe tbody tr th {\n",
       "        vertical-align: top;\n",
       "    }\n",
       "\n",
       "    .dataframe thead th {\n",
       "        text-align: right;\n",
       "    }\n",
       "</style>\n",
       "<table border=\"1\" class=\"dataframe\">\n",
       "  <thead>\n",
       "    <tr style=\"text-align: right;\">\n",
       "      <th></th>\n",
       "      <th>is_trade</th>\n",
       "      <th>shop_id</th>\n",
       "      <th>shop_review_num_level</th>\n",
       "      <th>shop_review_positive_rate</th>\n",
       "      <th>shop_star_level</th>\n",
       "      <th>shop_score_service</th>\n",
       "      <th>shop_score_delivery</th>\n",
       "      <th>shop_score_description</th>\n",
       "      <th>item_brand_id</th>\n",
       "      <th>item_city_id</th>\n",
       "      <th>item_price_level</th>\n",
       "      <th>item_sales_level</th>\n",
       "      <th>item_collected_level</th>\n",
       "      <th>item_pv_level</th>\n",
       "    </tr>\n",
       "  </thead>\n",
       "  <tbody>\n",
       "    <tr>\n",
       "      <th>is_trade</th>\n",
       "      <td>1.000000</td>\n",
       "      <td>-0.003238</td>\n",
       "      <td>-0.000747</td>\n",
       "      <td>-0.017355</td>\n",
       "      <td>-0.000735</td>\n",
       "      <td>-0.015578</td>\n",
       "      <td>-0.016239</td>\n",
       "      <td>-0.016734</td>\n",
       "      <td>-0.005311</td>\n",
       "      <td>-0.014622</td>\n",
       "      <td>-0.055895</td>\n",
       "      <td>0.037358</td>\n",
       "      <td>0.013972</td>\n",
       "      <td>0.006077</td>\n",
       "    </tr>\n",
       "    <tr>\n",
       "      <th>shop_id</th>\n",
       "      <td>-0.003238</td>\n",
       "      <td>1.000000</td>\n",
       "      <td>0.070676</td>\n",
       "      <td>0.029416</td>\n",
       "      <td>0.077010</td>\n",
       "      <td>0.026883</td>\n",
       "      <td>0.025032</td>\n",
       "      <td>0.022326</td>\n",
       "      <td>0.123670</td>\n",
       "      <td>-0.044146</td>\n",
       "      <td>-0.008429</td>\n",
       "      <td>0.012862</td>\n",
       "      <td>0.039910</td>\n",
       "      <td>0.042454</td>\n",
       "    </tr>\n",
       "    <tr>\n",
       "      <th>shop_review_num_level</th>\n",
       "      <td>-0.000747</td>\n",
       "      <td>0.070676</td>\n",
       "      <td>1.000000</td>\n",
       "      <td>0.168541</td>\n",
       "      <td>0.986987</td>\n",
       "      <td>0.021485</td>\n",
       "      <td>0.030958</td>\n",
       "      <td>0.070605</td>\n",
       "      <td>-0.009858</td>\n",
       "      <td>-0.040660</td>\n",
       "      <td>0.045727</td>\n",
       "      <td>0.463273</td>\n",
       "      <td>0.496431</td>\n",
       "      <td>0.328187</td>\n",
       "    </tr>\n",
       "    <tr>\n",
       "      <th>shop_review_positive_rate</th>\n",
       "      <td>-0.017355</td>\n",
       "      <td>0.029416</td>\n",
       "      <td>0.168541</td>\n",
       "      <td>1.000000</td>\n",
       "      <td>0.166854</td>\n",
       "      <td>0.329895</td>\n",
       "      <td>0.322094</td>\n",
       "      <td>0.465756</td>\n",
       "      <td>-0.095923</td>\n",
       "      <td>0.007857</td>\n",
       "      <td>0.341513</td>\n",
       "      <td>0.170366</td>\n",
       "      <td>0.206513</td>\n",
       "      <td>0.220753</td>\n",
       "    </tr>\n",
       "    <tr>\n",
       "      <th>shop_star_level</th>\n",
       "      <td>-0.000735</td>\n",
       "      <td>0.077010</td>\n",
       "      <td>0.986987</td>\n",
       "      <td>0.166854</td>\n",
       "      <td>1.000000</td>\n",
       "      <td>0.023166</td>\n",
       "      <td>0.032611</td>\n",
       "      <td>0.068930</td>\n",
       "      <td>-0.005102</td>\n",
       "      <td>-0.029254</td>\n",
       "      <td>0.048414</td>\n",
       "      <td>0.459293</td>\n",
       "      <td>0.495634</td>\n",
       "      <td>0.322467</td>\n",
       "    </tr>\n",
       "    <tr>\n",
       "      <th>shop_score_service</th>\n",
       "      <td>-0.015578</td>\n",
       "      <td>0.026883</td>\n",
       "      <td>0.021485</td>\n",
       "      <td>0.329895</td>\n",
       "      <td>0.023166</td>\n",
       "      <td>1.000000</td>\n",
       "      <td>0.994216</td>\n",
       "      <td>0.938355</td>\n",
       "      <td>0.018065</td>\n",
       "      <td>-0.036715</td>\n",
       "      <td>0.100911</td>\n",
       "      <td>-0.008801</td>\n",
       "      <td>0.034895</td>\n",
       "      <td>0.029599</td>\n",
       "    </tr>\n",
       "    <tr>\n",
       "      <th>shop_score_delivery</th>\n",
       "      <td>-0.016239</td>\n",
       "      <td>0.025032</td>\n",
       "      <td>0.030958</td>\n",
       "      <td>0.322094</td>\n",
       "      <td>0.032611</td>\n",
       "      <td>0.994216</td>\n",
       "      <td>1.000000</td>\n",
       "      <td>0.931128</td>\n",
       "      <td>0.013355</td>\n",
       "      <td>-0.045973</td>\n",
       "      <td>0.099274</td>\n",
       "      <td>-0.012572</td>\n",
       "      <td>0.032269</td>\n",
       "      <td>0.023327</td>\n",
       "    </tr>\n",
       "    <tr>\n",
       "      <th>shop_score_description</th>\n",
       "      <td>-0.016734</td>\n",
       "      <td>0.022326</td>\n",
       "      <td>0.070605</td>\n",
       "      <td>0.465756</td>\n",
       "      <td>0.068930</td>\n",
       "      <td>0.938355</td>\n",
       "      <td>0.931128</td>\n",
       "      <td>1.000000</td>\n",
       "      <td>-0.060349</td>\n",
       "      <td>-0.004456</td>\n",
       "      <td>0.228606</td>\n",
       "      <td>0.097055</td>\n",
       "      <td>0.126126</td>\n",
       "      <td>0.148225</td>\n",
       "    </tr>\n",
       "    <tr>\n",
       "      <th>item_brand_id</th>\n",
       "      <td>-0.005311</td>\n",
       "      <td>0.123670</td>\n",
       "      <td>-0.009858</td>\n",
       "      <td>-0.095923</td>\n",
       "      <td>-0.005102</td>\n",
       "      <td>0.018065</td>\n",
       "      <td>0.013355</td>\n",
       "      <td>-0.060349</td>\n",
       "      <td>1.000000</td>\n",
       "      <td>-0.086435</td>\n",
       "      <td>-0.098667</td>\n",
       "      <td>-0.060640</td>\n",
       "      <td>-0.060614</td>\n",
       "      <td>-0.031810</td>\n",
       "    </tr>\n",
       "    <tr>\n",
       "      <th>item_city_id</th>\n",
       "      <td>-0.014622</td>\n",
       "      <td>-0.044146</td>\n",
       "      <td>-0.040660</td>\n",
       "      <td>0.007857</td>\n",
       "      <td>-0.029254</td>\n",
       "      <td>-0.036715</td>\n",
       "      <td>-0.045973</td>\n",
       "      <td>-0.004456</td>\n",
       "      <td>-0.086435</td>\n",
       "      <td>1.000000</td>\n",
       "      <td>0.240088</td>\n",
       "      <td>-0.028618</td>\n",
       "      <td>0.010698</td>\n",
       "      <td>0.020906</td>\n",
       "    </tr>\n",
       "    <tr>\n",
       "      <th>item_price_level</th>\n",
       "      <td>-0.055895</td>\n",
       "      <td>-0.008429</td>\n",
       "      <td>0.045727</td>\n",
       "      <td>0.341513</td>\n",
       "      <td>0.048414</td>\n",
       "      <td>0.100911</td>\n",
       "      <td>0.099274</td>\n",
       "      <td>0.228606</td>\n",
       "      <td>-0.098667</td>\n",
       "      <td>0.240088</td>\n",
       "      <td>1.000000</td>\n",
       "      <td>-0.029377</td>\n",
       "      <td>0.083133</td>\n",
       "      <td>0.134814</td>\n",
       "    </tr>\n",
       "    <tr>\n",
       "      <th>item_sales_level</th>\n",
       "      <td>0.037358</td>\n",
       "      <td>0.012862</td>\n",
       "      <td>0.463273</td>\n",
       "      <td>0.170366</td>\n",
       "      <td>0.459293</td>\n",
       "      <td>-0.008801</td>\n",
       "      <td>-0.012572</td>\n",
       "      <td>0.097055</td>\n",
       "      <td>-0.060640</td>\n",
       "      <td>-0.028618</td>\n",
       "      <td>-0.029377</td>\n",
       "      <td>1.000000</td>\n",
       "      <td>0.853855</td>\n",
       "      <td>0.757697</td>\n",
       "    </tr>\n",
       "    <tr>\n",
       "      <th>item_collected_level</th>\n",
       "      <td>0.013972</td>\n",
       "      <td>0.039910</td>\n",
       "      <td>0.496431</td>\n",
       "      <td>0.206513</td>\n",
       "      <td>0.495634</td>\n",
       "      <td>0.034895</td>\n",
       "      <td>0.032269</td>\n",
       "      <td>0.126126</td>\n",
       "      <td>-0.060614</td>\n",
       "      <td>0.010698</td>\n",
       "      <td>0.083133</td>\n",
       "      <td>0.853855</td>\n",
       "      <td>1.000000</td>\n",
       "      <td>0.672120</td>\n",
       "    </tr>\n",
       "    <tr>\n",
       "      <th>item_pv_level</th>\n",
       "      <td>0.006077</td>\n",
       "      <td>0.042454</td>\n",
       "      <td>0.328187</td>\n",
       "      <td>0.220753</td>\n",
       "      <td>0.322467</td>\n",
       "      <td>0.029599</td>\n",
       "      <td>0.023327</td>\n",
       "      <td>0.148225</td>\n",
       "      <td>-0.031810</td>\n",
       "      <td>0.020906</td>\n",
       "      <td>0.134814</td>\n",
       "      <td>0.757697</td>\n",
       "      <td>0.672120</td>\n",
       "      <td>1.000000</td>\n",
       "    </tr>\n",
       "  </tbody>\n",
       "</table>\n",
       "</div>"
      ],
      "text/plain": [
       "                           is_trade   shop_id  shop_review_num_level  \\\n",
       "is_trade                   1.000000 -0.003238              -0.000747   \n",
       "shop_id                   -0.003238  1.000000               0.070676   \n",
       "shop_review_num_level     -0.000747  0.070676               1.000000   \n",
       "shop_review_positive_rate -0.017355  0.029416               0.168541   \n",
       "shop_star_level           -0.000735  0.077010               0.986987   \n",
       "shop_score_service        -0.015578  0.026883               0.021485   \n",
       "shop_score_delivery       -0.016239  0.025032               0.030958   \n",
       "shop_score_description    -0.016734  0.022326               0.070605   \n",
       "item_brand_id             -0.005311  0.123670              -0.009858   \n",
       "item_city_id              -0.014622 -0.044146              -0.040660   \n",
       "item_price_level          -0.055895 -0.008429               0.045727   \n",
       "item_sales_level           0.037358  0.012862               0.463273   \n",
       "item_collected_level       0.013972  0.039910               0.496431   \n",
       "item_pv_level              0.006077  0.042454               0.328187   \n",
       "\n",
       "                           shop_review_positive_rate  shop_star_level  \\\n",
       "is_trade                                   -0.017355        -0.000735   \n",
       "shop_id                                     0.029416         0.077010   \n",
       "shop_review_num_level                       0.168541         0.986987   \n",
       "shop_review_positive_rate                   1.000000         0.166854   \n",
       "shop_star_level                             0.166854         1.000000   \n",
       "shop_score_service                          0.329895         0.023166   \n",
       "shop_score_delivery                         0.322094         0.032611   \n",
       "shop_score_description                      0.465756         0.068930   \n",
       "item_brand_id                              -0.095923        -0.005102   \n",
       "item_city_id                                0.007857        -0.029254   \n",
       "item_price_level                            0.341513         0.048414   \n",
       "item_sales_level                            0.170366         0.459293   \n",
       "item_collected_level                        0.206513         0.495634   \n",
       "item_pv_level                               0.220753         0.322467   \n",
       "\n",
       "                           shop_score_service  shop_score_delivery  \\\n",
       "is_trade                            -0.015578            -0.016239   \n",
       "shop_id                              0.026883             0.025032   \n",
       "shop_review_num_level                0.021485             0.030958   \n",
       "shop_review_positive_rate            0.329895             0.322094   \n",
       "shop_star_level                      0.023166             0.032611   \n",
       "shop_score_service                   1.000000             0.994216   \n",
       "shop_score_delivery                  0.994216             1.000000   \n",
       "shop_score_description               0.938355             0.931128   \n",
       "item_brand_id                        0.018065             0.013355   \n",
       "item_city_id                        -0.036715            -0.045973   \n",
       "item_price_level                     0.100911             0.099274   \n",
       "item_sales_level                    -0.008801            -0.012572   \n",
       "item_collected_level                 0.034895             0.032269   \n",
       "item_pv_level                        0.029599             0.023327   \n",
       "\n",
       "                           shop_score_description  item_brand_id  \\\n",
       "is_trade                                -0.016734      -0.005311   \n",
       "shop_id                                  0.022326       0.123670   \n",
       "shop_review_num_level                    0.070605      -0.009858   \n",
       "shop_review_positive_rate                0.465756      -0.095923   \n",
       "shop_star_level                          0.068930      -0.005102   \n",
       "shop_score_service                       0.938355       0.018065   \n",
       "shop_score_delivery                      0.931128       0.013355   \n",
       "shop_score_description                   1.000000      -0.060349   \n",
       "item_brand_id                           -0.060349       1.000000   \n",
       "item_city_id                            -0.004456      -0.086435   \n",
       "item_price_level                         0.228606      -0.098667   \n",
       "item_sales_level                         0.097055      -0.060640   \n",
       "item_collected_level                     0.126126      -0.060614   \n",
       "item_pv_level                            0.148225      -0.031810   \n",
       "\n",
       "                           item_city_id  item_price_level  item_sales_level  \\\n",
       "is_trade                      -0.014622         -0.055895          0.037358   \n",
       "shop_id                       -0.044146         -0.008429          0.012862   \n",
       "shop_review_num_level         -0.040660          0.045727          0.463273   \n",
       "shop_review_positive_rate      0.007857          0.341513          0.170366   \n",
       "shop_star_level               -0.029254          0.048414          0.459293   \n",
       "shop_score_service            -0.036715          0.100911         -0.008801   \n",
       "shop_score_delivery           -0.045973          0.099274         -0.012572   \n",
       "shop_score_description        -0.004456          0.228606          0.097055   \n",
       "item_brand_id                 -0.086435         -0.098667         -0.060640   \n",
       "item_city_id                   1.000000          0.240088         -0.028618   \n",
       "item_price_level               0.240088          1.000000         -0.029377   \n",
       "item_sales_level              -0.028618         -0.029377          1.000000   \n",
       "item_collected_level           0.010698          0.083133          0.853855   \n",
       "item_pv_level                  0.020906          0.134814          0.757697   \n",
       "\n",
       "                           item_collected_level  item_pv_level  \n",
       "is_trade                               0.013972       0.006077  \n",
       "shop_id                                0.039910       0.042454  \n",
       "shop_review_num_level                  0.496431       0.328187  \n",
       "shop_review_positive_rate              0.206513       0.220753  \n",
       "shop_star_level                        0.495634       0.322467  \n",
       "shop_score_service                     0.034895       0.029599  \n",
       "shop_score_delivery                    0.032269       0.023327  \n",
       "shop_score_description                 0.126126       0.148225  \n",
       "item_brand_id                         -0.060614      -0.031810  \n",
       "item_city_id                           0.010698       0.020906  \n",
       "item_price_level                       0.083133       0.134814  \n",
       "item_sales_level                       0.853855       0.757697  \n",
       "item_collected_level                   1.000000       0.672120  \n",
       "item_pv_level                          0.672120       1.000000  "
      ]
     },
     "execution_count": 17,
     "metadata": {},
     "output_type": "execute_result"
    }
   ],
   "source": [
    "# 来看看相关度咯\n",
    "forcorr=df_origin[[\"is_trade\",\"shop_id\",\"shop_review_num_level\",\"shop_review_positive_rate\",\"shop_star_level\",\"shop_score_service\",\"shop_score_delivery\",\"shop_score_description\",\"item_brand_id\",\"item_city_id\",\"item_price_level\",\"item_sales_level\",\"item_collected_level\",\"item_pv_level\"]]\n",
    "corr = forcorr.corr()\n",
    "corr"
   ]
  },
  {
   "cell_type": "code",
   "execution_count": 18,
   "metadata": {
    "scrolled": true
   },
   "outputs": [
    {
     "data": {
      "text/plain": [
       "<Figure size 432x288 with 0 Axes>"
      ]
     },
     "metadata": {},
     "output_type": "display_data"
    },
    {
     "data": {
      "image/png": "[encoded data removed]",
      "text/plain": [
       "<Figure size 288x288 with 1 Axes>"
      ]
     },
     "metadata": {
      "needs_background": "light"
     },
     "output_type": "display_data"
    }
   ],
   "source": [
    "# 用颜色深浅来表示相关度\n",
    "plt.figure()\n",
    "plt.matshow(corr)\n",
    "plt.show()"
   ]
  },
  {
   "cell_type": "code",
   "execution_count": 34,
   "metadata": {},
   "outputs": [],
   "source": [
    "#拆分时间到日，绘制折线图 pv 成交\n",
    "df_origin['time'] = pd.to_datetime(df_origin.context_timestamp, unit='s')\n",
    "df_origin['day'] = df_origin['time'].apply(lambda x: int(str(x)[8:10]))\n",
    "trade_cnt=df_origin.groupby('day',as_index=False).agg({'is_trade':'sum'})\n",
    "pv=df_origin.groupby('day',as_index=False).agg({'is_trade':'count'})\n",
    "trade_cnt.columns=['day','trade_cnt']\n",
    "pv.columns=['day','pv']\n",
    "df_origin=df_origin.merge(trade_cnt,on=['day'],how='left')\n",
    "df_origin=df_origin.merge(pv,on=['day'],how='left')"
   ]
  },
  {
   "cell_type": "code",
   "execution_count": 38,
   "metadata": {},
   "outputs": [],
   "source": [
    "trend_pic=pv.merge(trade_cnt,on=['day'],how='left')"
   ]
  },
  {
   "cell_type": "code",
   "execution_count": 41,
   "metadata": {},
   "outputs": [
    {
     "data": {
      "text/html": [
       "<div>\n",
       "<style scoped>\n",
       "    .dataframe tbody tr th:only-of-type {\n",
       "        vertical-align: middle;\n",
       "    }\n",
       "\n",
       "    .dataframe tbody tr th {\n",
       "        vertical-align: top;\n",
       "    }\n",
       "\n",
       "    .dataframe thead th {\n",
       "        text-align: right;\n",
       "    }\n",
       "</style>\n",
       "<table border=\"1\" class=\"dataframe\">\n",
       "  <thead>\n",
       "    <tr style=\"text-align: right;\">\n",
       "      <th></th>\n",
       "      <th>day</th>\n",
       "      <th>pv</th>\n",
       "      <th>trade_cnt</th>\n",
       "    </tr>\n",
       "  </thead>\n",
       "  <tbody>\n",
       "    <tr>\n",
       "      <th>0</th>\n",
       "      <td>17</td>\n",
       "      <td>6659</td>\n",
       "      <td>147</td>\n",
       "    </tr>\n",
       "    <tr>\n",
       "      <th>1</th>\n",
       "      <td>18</td>\n",
       "      <td>77494</td>\n",
       "      <td>1536</td>\n",
       "    </tr>\n",
       "    <tr>\n",
       "      <th>2</th>\n",
       "      <td>19</td>\n",
       "      <td>70458</td>\n",
       "      <td>1389</td>\n",
       "    </tr>\n",
       "    <tr>\n",
       "      <th>3</th>\n",
       "      <td>20</td>\n",
       "      <td>68681</td>\n",
       "      <td>1322</td>\n",
       "    </tr>\n",
       "    <tr>\n",
       "      <th>4</th>\n",
       "      <td>21</td>\n",
       "      <td>71236</td>\n",
       "      <td>1356</td>\n",
       "    </tr>\n",
       "    <tr>\n",
       "      <th>5</th>\n",
       "      <td>22</td>\n",
       "      <td>68213</td>\n",
       "      <td>1304</td>\n",
       "    </tr>\n",
       "    <tr>\n",
       "      <th>6</th>\n",
       "      <td>23</td>\n",
       "      <td>62869</td>\n",
       "      <td>1084</td>\n",
       "    </tr>\n",
       "    <tr>\n",
       "      <th>7</th>\n",
       "      <td>24</td>\n",
       "      <td>52528</td>\n",
       "      <td>883</td>\n",
       "    </tr>\n",
       "  </tbody>\n",
       "</table>\n",
       "</div>"
      ],
      "text/plain": [
       "   day     pv  trade_cnt\n",
       "0   17   6659        147\n",
       "1   18  77494       1536\n",
       "2   19  70458       1389\n",
       "3   20  68681       1322\n",
       "4   21  71236       1356\n",
       "5   22  68213       1304\n",
       "6   23  62869       1084\n",
       "7   24  52528        883"
      ]
     },
     "execution_count": 41,
     "metadata": {},
     "output_type": "execute_result"
    }
   ],
   "source": [
    "trend_pic"
   ]
  },
  {
   "cell_type": "code",
   "execution_count": 44,
   "metadata": {
    "scrolled": true
   },
   "outputs": [
    {
     "data": {
      "text/plain": [
       "<matplotlib.axes._subplots.AxesSubplot at 0x1810e5424a8>"
      ]
     },
     "execution_count": 44,
     "metadata": {},
     "output_type": "execute_result"
    },
    {
     "data": {
      "image/png": "[encoded data removed]",
      "text/plain": [
       "<Figure size 432x288 with 1 Axes>"
      ]
     },
     "metadata": {
      "needs_background": "light"
     },
     "output_type": "display_data"
    }
   ],
   "source": [
    "trend_pic.plot(kind='line',x='day', y=['trade_cnt'])"
   ]
  },
  {
   "cell_type": "code",
   "execution_count": 43,
   "metadata": {
    "scrolled": true
   },
   "outputs": [
    {
     "data": {
      "text/plain": [
       "<matplotlib.axes._subplots.AxesSubplot at 0x1810e4d9da0>"
      ]
     },
     "execution_count": 43,
     "metadata": {},
     "output_type": "execute_result"
    },
    {
     "data": {
      "image/png": "[encoded data removed]",
      "text/plain": [
       "<Figure size 432x288 with 1 Axes>"
      ]
     },
     "metadata": {
      "needs_background": "light"
     },
     "output_type": "display_data"
    }
   ],
   "source": [
    "trend_pic.plot(kind='line',x='day', y=['pv'])"
   ]
  },
  {
   "cell_type": "code",
   "execution_count": 20,
   "metadata": {},
   "outputs": [
    {
     "data": {
      "text/plain": [
       "3959"
      ]
     },
     "execution_count": 20,
     "metadata": {},
     "output_type": "execute_result"
    }
   ],
   "source": [
    "# 独立店铺数 3959\n",
    "len(df_origin['shop_id'].unique())"
   ]
  },
  {
   "cell_type": "code",
   "execution_count": 21,
   "metadata": {},
   "outputs": [
    {
     "data": {
      "text/html": [
       "<div>\n",
       "<style scoped>\n",
       "    .dataframe tbody tr th:only-of-type {\n",
       "        vertical-align: middle;\n",
       "    }\n",
       "\n",
       "    .dataframe tbody tr th {\n",
       "        vertical-align: top;\n",
       "    }\n",
       "\n",
       "    .dataframe thead th {\n",
       "        text-align: right;\n",
       "    }\n",
       "</style>\n",
       "<table border=\"1\" class=\"dataframe\">\n",
       "  <thead>\n",
       "    <tr style=\"text-align: right;\">\n",
       "      <th></th>\n",
       "      <th>is_trade</th>\n",
       "    </tr>\n",
       "    <tr>\n",
       "      <th>shop_id</th>\n",
       "      <th></th>\n",
       "    </tr>\n",
       "  </thead>\n",
       "  <tbody>\n",
       "    <tr>\n",
       "      <th>1543559655939246</th>\n",
       "      <td>0</td>\n",
       "    </tr>\n",
       "    <tr>\n",
       "      <th>6515295840140210</th>\n",
       "      <td>3</td>\n",
       "    </tr>\n",
       "    <tr>\n",
       "      <th>9230153951388399</th>\n",
       "      <td>1</td>\n",
       "    </tr>\n",
       "    <tr>\n",
       "      <th>10653466129289268</th>\n",
       "      <td>0</td>\n",
       "    </tr>\n",
       "    <tr>\n",
       "      <th>12057125006548226</th>\n",
       "      <td>1</td>\n",
       "    </tr>\n",
       "  </tbody>\n",
       "</table>\n",
       "</div>"
      ],
      "text/plain": [
       "                   is_trade\n",
       "shop_id                    \n",
       "1543559655939246          0\n",
       "6515295840140210          3\n",
       "9230153951388399          1\n",
       "10653466129289268         0\n",
       "12057125006548226         1"
      ]
     },
     "execution_count": 21,
     "metadata": {},
     "output_type": "execute_result"
    }
   ],
   "source": [
    "df_origin.groupby('shop_id').agg({'is_trade':'sum'}).head()"
   ]
  },
  {
   "cell_type": "code",
   "execution_count": 22,
   "metadata": {},
   "outputs": [
    {
     "data": {
      "text/plain": [
       "9021"
      ]
     },
     "execution_count": 22,
     "metadata": {},
     "output_type": "execute_result"
    }
   ],
   "source": [
    "df_origin['is_trade'].sum()"
   ]
  },
  {
   "cell_type": "code",
   "execution_count": 23,
   "metadata": {},
   "outputs": [
    {
     "data": {
      "text/html": [
       "<div>\n",
       "<style scoped>\n",
       "    .dataframe tbody tr th:only-of-type {\n",
       "        vertical-align: middle;\n",
       "    }\n",
       "\n",
       "    .dataframe tbody tr th {\n",
       "        vertical-align: top;\n",
       "    }\n",
       "\n",
       "    .dataframe thead th {\n",
       "        text-align: right;\n",
       "    }\n",
       "</style>\n",
       "<table border=\"1\" class=\"dataframe\">\n",
       "  <thead>\n",
       "    <tr style=\"text-align: right;\">\n",
       "      <th></th>\n",
       "      <th></th>\n",
       "      <th>is_trade</th>\n",
       "      <th>shop_review_num_level</th>\n",
       "      <th>shop_review_positive_rate</th>\n",
       "      <th>shop_star_level</th>\n",
       "      <th>shop_score_service</th>\n",
       "      <th>shop_score_delivery</th>\n",
       "      <th>shop_score_description</th>\n",
       "      <th>item_brand_id</th>\n",
       "      <th>item_city_id</th>\n",
       "      <th>item_price_level</th>\n",
       "      <th>item_sales_level</th>\n",
       "      <th>item_collected_level</th>\n",
       "      <th>item_pv_level</th>\n",
       "    </tr>\n",
       "    <tr>\n",
       "      <th>shop_id</th>\n",
       "      <th>item_id</th>\n",
       "      <th></th>\n",
       "      <th></th>\n",
       "      <th></th>\n",
       "      <th></th>\n",
       "      <th></th>\n",
       "      <th></th>\n",
       "      <th></th>\n",
       "      <th></th>\n",
       "      <th></th>\n",
       "      <th></th>\n",
       "      <th></th>\n",
       "      <th></th>\n",
       "      <th></th>\n",
       "    </tr>\n",
       "  </thead>\n",
       "  <tbody>\n",
       "    <tr>\n",
       "      <th rowspan=\"2\" valign=\"top\">1543559655939246</th>\n",
       "      <th>7806635514564766299</th>\n",
       "      <td>0.000000</td>\n",
       "      <td>17.0</td>\n",
       "      <td>0.993880</td>\n",
       "      <td>5014.0</td>\n",
       "      <td>0.975812</td>\n",
       "      <td>0.977763</td>\n",
       "      <td>0.974726</td>\n",
       "      <td>3.584460e+17</td>\n",
       "      <td>9088192369782436864</td>\n",
       "      <td>7.0</td>\n",
       "      <td>9.000000</td>\n",
       "      <td>12.0</td>\n",
       "      <td>11.000000</td>\n",
       "    </tr>\n",
       "    <tr>\n",
       "      <th>8159368884575927001</th>\n",
       "      <td>0.000000</td>\n",
       "      <td>17.0</td>\n",
       "      <td>0.993878</td>\n",
       "      <td>5014.0</td>\n",
       "      <td>0.975844</td>\n",
       "      <td>0.977768</td>\n",
       "      <td>0.974632</td>\n",
       "      <td>3.584460e+17</td>\n",
       "      <td>9088192369782436864</td>\n",
       "      <td>8.0</td>\n",
       "      <td>7.000000</td>\n",
       "      <td>11.0</td>\n",
       "      <td>10.000000</td>\n",
       "    </tr>\n",
       "    <tr>\n",
       "      <th rowspan=\"3\" valign=\"top\">6515295840140210</th>\n",
       "      <th>2455538633397893348</th>\n",
       "      <td>0.047619</td>\n",
       "      <td>14.0</td>\n",
       "      <td>0.989089</td>\n",
       "      <td>5012.0</td>\n",
       "      <td>0.975688</td>\n",
       "      <td>0.975319</td>\n",
       "      <td>0.973187</td>\n",
       "      <td>3.697251e+18</td>\n",
       "      <td>1019055478500228096</td>\n",
       "      <td>5.0</td>\n",
       "      <td>11.000000</td>\n",
       "      <td>11.0</td>\n",
       "      <td>14.690476</td>\n",
       "    </tr>\n",
       "    <tr>\n",
       "      <th>5655832228187215020</th>\n",
       "      <td>0.500000</td>\n",
       "      <td>14.0</td>\n",
       "      <td>0.989062</td>\n",
       "      <td>5012.0</td>\n",
       "      <td>0.975778</td>\n",
       "      <td>0.975364</td>\n",
       "      <td>0.973265</td>\n",
       "      <td>3.697251e+18</td>\n",
       "      <td>1019055478500227328</td>\n",
       "      <td>6.0</td>\n",
       "      <td>8.000000</td>\n",
       "      <td>7.0</td>\n",
       "      <td>12.000000</td>\n",
       "    </tr>\n",
       "    <tr>\n",
       "      <th>5707048696330942023</th>\n",
       "      <td>0.000000</td>\n",
       "      <td>14.0</td>\n",
       "      <td>0.989108</td>\n",
       "      <td>5012.0</td>\n",
       "      <td>0.975683</td>\n",
       "      <td>0.975288</td>\n",
       "      <td>0.973142</td>\n",
       "      <td>3.697251e+18</td>\n",
       "      <td>1019055478500227328</td>\n",
       "      <td>5.0</td>\n",
       "      <td>5.000000</td>\n",
       "      <td>5.0</td>\n",
       "      <td>8.000000</td>\n",
       "    </tr>\n",
       "    <tr>\n",
       "      <th rowspan=\"3\" valign=\"top\">9230153951388399</th>\n",
       "      <th>2185554875838380422</th>\n",
       "      <td>0.032258</td>\n",
       "      <td>11.0</td>\n",
       "      <td>0.967045</td>\n",
       "      <td>5009.0</td>\n",
       "      <td>0.988311</td>\n",
       "      <td>0.984677</td>\n",
       "      <td>0.986542</td>\n",
       "      <td>7.838285e+18</td>\n",
       "      <td>1019055478500227968</td>\n",
       "      <td>8.0</td>\n",
       "      <td>8.000000</td>\n",
       "      <td>10.0</td>\n",
       "      <td>13.258065</td>\n",
       "    </tr>\n",
       "    <tr>\n",
       "      <th>2226120514471475017</th>\n",
       "      <td>0.000000</td>\n",
       "      <td>11.0</td>\n",
       "      <td>0.967118</td>\n",
       "      <td>5009.0</td>\n",
       "      <td>0.988003</td>\n",
       "      <td>0.984416</td>\n",
       "      <td>0.986565</td>\n",
       "      <td>7.838285e+18</td>\n",
       "      <td>1019055478500227456</td>\n",
       "      <td>8.0</td>\n",
       "      <td>7.000000</td>\n",
       "      <td>9.0</td>\n",
       "      <td>9.333333</td>\n",
       "    </tr>\n",
       "    <tr>\n",
       "      <th>3403739788483962878</th>\n",
       "      <td>0.000000</td>\n",
       "      <td>11.0</td>\n",
       "      <td>0.966815</td>\n",
       "      <td>5009.0</td>\n",
       "      <td>0.988361</td>\n",
       "      <td>0.984650</td>\n",
       "      <td>0.986380</td>\n",
       "      <td>7.838285e+18</td>\n",
       "      <td>8762827044490675200</td>\n",
       "      <td>9.0</td>\n",
       "      <td>9.192308</td>\n",
       "      <td>13.0</td>\n",
       "      <td>14.000000</td>\n",
       "    </tr>\n",
       "    <tr>\n",
       "      <th rowspan=\"2\" valign=\"top\">10653466129289268</th>\n",
       "      <th>3989767131983327826</th>\n",
       "      <td>0.000000</td>\n",
       "      <td>10.0</td>\n",
       "      <td>1.000000</td>\n",
       "      <td>5008.0</td>\n",
       "      <td>0.987758</td>\n",
       "      <td>0.989749</td>\n",
       "      <td>0.988737</td>\n",
       "      <td>8.716627e+18</td>\n",
       "      <td>7322157373578953728</td>\n",
       "      <td>7.0</td>\n",
       "      <td>6.000000</td>\n",
       "      <td>9.0</td>\n",
       "      <td>13.000000</td>\n",
       "    </tr>\n",
       "    <tr>\n",
       "      <th>4191633528118192451</th>\n",
       "      <td>0.000000</td>\n",
       "      <td>10.0</td>\n",
       "      <td>1.000000</td>\n",
       "      <td>5008.0</td>\n",
       "      <td>0.987789</td>\n",
       "      <td>0.989764</td>\n",
       "      <td>0.988687</td>\n",
       "      <td>8.716627e+18</td>\n",
       "      <td>7322157373578955776</td>\n",
       "      <td>7.0</td>\n",
       "      <td>5.000000</td>\n",
       "      <td>10.0</td>\n",
       "      <td>12.000000</td>\n",
       "    </tr>\n",
       "  </tbody>\n",
       "</table>\n",
       "</div>"
      ],
      "text/plain": [
       "                                       is_trade  shop_review_num_level  \\\n",
       "shop_id           item_id                                                \n",
       "1543559655939246  7806635514564766299  0.000000                   17.0   \n",
       "                  8159368884575927001  0.000000                   17.0   \n",
       "6515295840140210  2455538633397893348  0.047619                   14.0   \n",
       "                  5655832228187215020  0.500000                   14.0   \n",
       "                  5707048696330942023  0.000000                   14.0   \n",
       "9230153951388399  2185554875838380422  0.032258                   11.0   \n",
       "                  2226120514471475017  0.000000                   11.0   \n",
       "                  3403739788483962878  0.000000                   11.0   \n",
       "10653466129289268 3989767131983327826  0.000000                   10.0   \n",
       "                  4191633528118192451  0.000000                   10.0   \n",
       "\n",
       "                                       shop_review_positive_rate  \\\n",
       "shop_id           item_id                                          \n",
       "1543559655939246  7806635514564766299                   0.993880   \n",
       "                  8159368884575927001                   0.993878   \n",
       "6515295840140210  2455538633397893348                   0.989089   \n",
       "                  5655832228187215020                   0.989062   \n",
       "                  5707048696330942023                   0.989108   \n",
       "9230153951388399  2185554875838380422                   0.967045   \n",
       "                  2226120514471475017                   0.967118   \n",
       "                  3403739788483962878                   0.966815   \n",
       "10653466129289268 3989767131983327826                   1.000000   \n",
       "                  4191633528118192451                   1.000000   \n",
       "\n",
       "                                       shop_star_level  shop_score_service  \\\n",
       "shop_id           item_id                                                    \n",
       "1543559655939246  7806635514564766299           5014.0            0.975812   \n",
       "                  8159368884575927001           5014.0            0.975844   \n",
       "6515295840140210  2455538633397893348           5012.0            0.975688   \n",
       "                  5655832228187215020           5012.0            0.975778   \n",
       "                  5707048696330942023           5012.0            0.975683   \n",
       "9230153951388399  2185554875838380422           5009.0            0.988311   \n",
       "                  2226120514471475017           5009.0            0.988003   \n",
       "                  3403739788483962878           5009.0            0.988361   \n",
       "10653466129289268 3989767131983327826           5008.0            0.987758   \n",
       "                  4191633528118192451           5008.0            0.987789   \n",
       "\n",
       "                                       shop_score_delivery  \\\n",
       "shop_id           item_id                                    \n",
       "1543559655939246  7806635514564766299             0.977763   \n",
       "                  8159368884575927001             0.977768   \n",
       "6515295840140210  2455538633397893348             0.975319   \n",
       "                  5655832228187215020             0.975364   \n",
       "                  5707048696330942023             0.975288   \n",
       "9230153951388399  2185554875838380422             0.984677   \n",
       "                  2226120514471475017             0.984416   \n",
       "                  3403739788483962878             0.984650   \n",
       "10653466129289268 3989767131983327826             0.989749   \n",
       "                  4191633528118192451             0.989764   \n",
       "\n",
       "                                       shop_score_description  item_brand_id  \\\n",
       "shop_id           item_id                                                      \n",
       "1543559655939246  7806635514564766299                0.974726   3.584460e+17   \n",
       "                  8159368884575927001                0.974632   3.584460e+17   \n",
       "6515295840140210  2455538633397893348                0.973187   3.697251e+18   \n",
       "                  5655832228187215020                0.973265   3.697251e+18   \n",
       "                  5707048696330942023                0.973142   3.697251e+18   \n",
       "9230153951388399  2185554875838380422                0.986542   7.838285e+18   \n",
       "                  2226120514471475017                0.986565   7.838285e+18   \n",
       "                  3403739788483962878                0.986380   7.838285e+18   \n",
       "10653466129289268 3989767131983327826                0.988737   8.716627e+18   \n",
       "                  4191633528118192451                0.988687   8.716627e+18   \n",
       "\n",
       "                                              item_city_id  item_price_level  \\\n",
       "shop_id           item_id                                                      \n",
       "1543559655939246  7806635514564766299  9088192369782436864               7.0   \n",
       "                  8159368884575927001  9088192369782436864               8.0   \n",
       "6515295840140210  2455538633397893348  1019055478500228096               5.0   \n",
       "                  5655832228187215020  1019055478500227328               6.0   \n",
       "                  5707048696330942023  1019055478500227328               5.0   \n",
       "9230153951388399  2185554875838380422  1019055478500227968               8.0   \n",
       "                  2226120514471475017  1019055478500227456               8.0   \n",
       "                  3403739788483962878  8762827044490675200               9.0   \n",
       "10653466129289268 3989767131983327826  7322157373578953728               7.0   \n",
       "                  4191633528118192451  7322157373578955776               7.0   \n",
       "\n",
       "                                       item_sales_level  item_collected_level  \\\n",
       "shop_id           item_id                                                       \n",
       "1543559655939246  7806635514564766299          9.000000                  12.0   \n",
       "                  8159368884575927001          7.000000                  11.0   \n",
       "6515295840140210  2455538633397893348         11.000000                  11.0   \n",
       "                  5655832228187215020          8.000000                   7.0   \n",
       "                  5707048696330942023          5.000000                   5.0   \n",
       "9230153951388399  2185554875838380422          8.000000                  10.0   \n",
       "                  2226120514471475017          7.000000                   9.0   \n",
       "                  3403739788483962878          9.192308                  13.0   \n",
       "10653466129289268 3989767131983327826          6.000000                   9.0   \n",
       "                  4191633528118192451          5.000000                  10.0   \n",
       "\n",
       "                                       item_pv_level  \n",
       "shop_id           item_id                             \n",
       "1543559655939246  7806635514564766299      11.000000  \n",
       "                  8159368884575927001      10.000000  \n",
       "6515295840140210  2455538633397893348      14.690476  \n",
       "                  5655832228187215020      12.000000  \n",
       "                  5707048696330942023       8.000000  \n",
       "9230153951388399  2185554875838380422      13.258065  \n",
       "                  2226120514471475017       9.333333  \n",
       "                  3403739788483962878      14.000000  \n",
       "10653466129289268 3989767131983327826      13.000000  \n",
       "                  4191633528118192451      12.000000  "
      ]
     },
     "execution_count": 23,
     "metadata": {},
     "output_type": "execute_result"
    }
   ],
   "source": [
    "df_train=df_origin[['shop_id','item_id','is_trade','shop_review_num_level','shop_review_positive_rate','shop_star_level','shop_score_service','shop_score_delivery','shop_score_description','item_brand_id','item_city_id','item_price_level','item_sales_level','item_collected_level','item_pv_level']].groupby(['shop_id','item_id']) \\\n",
    ".agg({'is_trade':lambda x: x.sum()/x.count(),'shop_review_num_level':'mean','shop_review_positive_rate':'mean','shop_star_level':'mean','shop_score_service':'mean','shop_score_delivery':'mean','shop_score_description':'mean','item_brand_id':'mean','item_city_id':'mean','item_price_level':'mean','item_sales_level':'mean','item_collected_level':'mean','item_pv_level':'mean'})\n",
    "df_train.head(10)\n",
    "# df_train['is_trade'].transform(lambda x: x.sum()/x.count())"
   ]
  },
  {
   "cell_type": "code",
   "execution_count": 24,
   "metadata": {},
   "outputs": [
    {
     "data": {
      "text/plain": [
       "is_trade                     float64\n",
       "shop_review_num_level        float64\n",
       "shop_review_positive_rate    float64\n",
       "shop_star_level              float64\n",
       "shop_score_service           float64\n",
       "shop_score_delivery          float64\n",
       "shop_score_description       float64\n",
       "item_brand_id                float64\n",
       "item_city_id                   int64\n",
       "item_price_level             float64\n",
       "item_sales_level             float64\n",
       "item_collected_level         float64\n",
       "item_pv_level                float64\n",
       "dtype: object"
      ]
     },
     "execution_count": 24,
     "metadata": {},
     "output_type": "execute_result"
    }
   ],
   "source": [
    "df_train.dtypes"
   ]
  },
  {
   "cell_type": "code",
   "execution_count": 25,
   "metadata": {},
   "outputs": [
    {
     "data": {
      "text/plain": [
       "956"
      ]
     },
     "execution_count": 25,
     "metadata": {},
     "output_type": "execute_result"
    }
   ],
   "source": [
    "# 独立城市标签\n",
    "len(df_train['item_city_id'].unique())"
   ]
  },
  {
   "cell_type": "code",
   "execution_count": 26,
   "metadata": {},
   "outputs": [
    {
     "data": {
      "text/plain": [
       "4144"
      ]
     },
     "execution_count": 26,
     "metadata": {},
     "output_type": "execute_result"
    }
   ],
   "source": [
    "# 独立品牌标签\n",
    "len(df_train['item_brand_id'].unique())"
   ]
  },
  {
   "cell_type": "code",
   "execution_count": 27,
   "metadata": {},
   "outputs": [
    {
     "data": {
      "text/plain": [
       "<matplotlib.axes._subplots.AxesSubplot at 0x18100441ba8>"
      ]
     },
     "execution_count": 27,
     "metadata": {},
     "output_type": "execute_result"
    },
    {
     "data": {
      "image/png": "[encoded data removed]",
      "text/plain": [
       "<Figure size 432x288 with 1 Axes>"
      ]
     },
     "metadata": {
      "needs_background": "light"
     },
     "output_type": "display_data"
    }
   ],
   "source": [
    "df_train.plot(kind='scatter',x='item_city_id', y='is_trade', marker='o')"
   ]
  },
  {
   "cell_type": "code",
   "execution_count": 28,
   "metadata": {
    "scrolled": true
   },
   "outputs": [
    {
     "data": {
      "image/png": "[encoded data removed]",
      "text/plain": [
       "<Figure size 432x288 with 1 Axes>"
      ]
     },
     "metadata": {
      "needs_background": "light"
     },
     "output_type": "display_data"
    }
   ],
   "source": [
    "df_train.plot(kind='scatter',x='item_brand_id', y='is_trade', marker='o')\n",
    "plt.show()"
   ]
  },
  {
   "cell_type": "code",
   "execution_count": 29,
   "metadata": {},
   "outputs": [],
   "source": [
    "# df_origin.plot(kind='line',y='is_trade',x='context_timestamp')"
   ]
  },
  {
   "cell_type": "code",
   "execution_count": 30,
   "metadata": {},
   "outputs": [],
   "source": [
    "import xgboost as xgb\n",
    "from xgboost import XGBRegressor as xgbr\n",
    "from sklearn.model_selection import ShuffleSplit\n",
    "from sklearn.model_selection import learning_curve"
   ]
  },
  {
   "cell_type": "code",
   "execution_count": 31,
   "metadata": {},
   "outputs": [],
   "source": [
    "# 划分训练集和测试集\n",
    "y=df_train[['is_trade']]\n",
    "X=df_train.drop('is_trade', axis=1)"
   ]
  },
  {
   "cell_type": "code",
   "execution_count": 32,
   "metadata": {},
   "outputs": [],
   "source": [
    "def plot_learning_curve(estimator, title, X, y, ylim=None, cv=None,\n",
    "                        n_jobs=1, train_sizes=np.linspace(.1, 1.0, 5)):\n",
    "    \n",
    "    plt.figure()\n",
    "    plt.title(title)\n",
    "    if ylim is not None:\n",
    "        plt.ylim(*ylim)\n",
    "    plt.xlabel(\"Training examples\")\n",
    "    plt.ylabel(\"Score\")\n",
    "    train_sizes, train_scores, test_scores = learning_curve(\n",
    "        estimator, X, y, cv=cv, n_jobs=n_jobs, train_sizes=train_sizes)\n",
    "    train_scores_mean = np.mean(train_scores, axis=1)\n",
    "    train_scores_std = np.std(train_scores, axis=1)\n",
    "    test_scores_mean = np.mean(test_scores, axis=1)\n",
    "    test_scores_std = np.std(test_scores, axis=1)\n",
    "    plt.grid()\n",
    "\n",
    "    plt.fill_between(train_sizes, train_scores_mean - train_scores_std,\n",
    "                     train_scores_mean + train_scores_std, alpha=0.1,\n",
    "                     color=\"r\")\n",
    "    plt.fill_between(train_sizes, test_scores_mean - test_scores_std,\n",
    "                     test_scores_mean + test_scores_std, alpha=0.1, color=\"g\")\n",
    "    plt.plot(train_sizes, train_scores_mean, 'o-', color=\"r\",\n",
    "             label=\"Training score\")\n",
    "    plt.plot(train_sizes, test_scores_mean, 'o-', color=\"g\",\n",
    "             label=\"Cross-validation score\")\n",
    "\n",
    "    plt.legend(loc=\"best\")\n",
    "    return plt\n",
    "\n",
    "\n",
    "# title = \"Learning Curves (xgbc, n_estimators = 100)\"\n",
    "# cv = ShuffleSplit(df_train.shape[0],test_size=0.2, random_state=0)\n",
    "# estimator = xgbr(n_estimators = 10,objective='reg:logistic')\n",
    "# plot_learning_curve(estimator, title, X, y, (0.0, 1.01), cv=cv, n_jobs=8)\n",
    "\n",
    "# plt.show()"
   ]
  },
  {
   "cell_type": "code",
   "execution_count": 33,
   "metadata": {},
   "outputs": [],
   "source": [
    "# param=dict()\n",
    "# param['gpu_id'] = 1\n",
    "# param['max_bin'] = -1\n",
    "# param['tree_method'] = 'gpu_hist'\n",
    "# xgb.train(param,xgb.DMatrix(X),label='is_trade',evals=(xgb.DMatrix(y),'test'))"
   ]
  }
 ],
 "metadata": {
  "kernelspec": {
   "display_name": "Python 3",
   "language": "python",
   "name": "python3"
  },
  "language_info": {
   "codemirror_mode": {
    "name": "ipython",
    "version": 3
   },
   "file_extension": ".py",
   "mimetype": "text/x-python",
   "name": "python",
   "nbconvert_exporter": "python",
   "pygments_lexer": "ipython3",
   "version": "3.7.0"
  }
 },
 "nbformat": 4,
 "nbformat_minor": 2
}
